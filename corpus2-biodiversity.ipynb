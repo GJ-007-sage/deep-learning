{
  "cells": [
    {
      "cell_type": "markdown",
      "metadata": {
        "id": "view-in-github",
        "colab_type": "text"
      },
      "source": [
        "<a href=\"https://colab.research.google.com/github/GJ-007-sage/deep-learning/blob/main/corpus2-biodiversity.ipynb\" target=\"_parent\"><img src=\"https://colab.research.google.com/assets/colab-badge.svg\" alt=\"Open In Colab\"/></a>"
      ]
    },
    {
      "cell_type": "code",
      "execution_count": 48,
      "id": "a5df6fe2-c049-4ac2-b0f9-a637c0383601",
      "metadata": {
        "id": "a5df6fe2-c049-4ac2-b0f9-a637c0383601"
      },
      "outputs": [],
      "source": [
        "import re"
      ]
    },
    {
      "cell_type": "code",
      "execution_count": 49,
      "id": "08a7042b-ceb5-4112-a577-0e43b80e354c",
      "metadata": {
        "id": "08a7042b-ceb5-4112-a577-0e43b80e354c"
      },
      "outputs": [],
      "source": [
        "text = \"Biodiversity refers to the variety of life on Earth, encompassing all living organisms, their genetic differences, and the ecosystems they form. It is crucial for maintaining ecosystem services, which include air and water purification, pollination of plants, and climate regulation.The loss of biodiversity poses a significant threat to the health of our planet. Activities such as deforestation, pollution, and climate change are driving many species to extinction. Protecting biodiversity is essential not only for the survival of individual species but also for human well-being, as it supports food security and provides resources for medicine and economic development.. Source: https://www.worldwildlife.org/pages/what-is-biodiversity\""
      ]
    },
    {
      "cell_type": "raw",
      "id": "4d435bf7-8d35-43fe-a29c-71efe48479f1",
      "metadata": {
        "id": "4d435bf7-8d35-43fe-a29c-71efe48479f1"
      },
      "source": [
        "1. LowerCasing\n"
      ]
    },
    {
      "cell_type": "code",
      "execution_count": 50,
      "id": "84912a5b-9bc7-42f2-a2ac-26fbdff65b35",
      "metadata": {
        "colab": {
          "base_uri": "https://localhost:8080/",
          "height": 104
        },
        "id": "84912a5b-9bc7-42f2-a2ac-26fbdff65b35",
        "outputId": "fae646df-6d4f-43e4-f20e-257c0f12cbf9"
      },
      "outputs": [
        {
          "output_type": "execute_result",
          "data": {
            "text/plain": [
              "'biodiversity refers to the variety of life on earth, encompassing all living organisms, their genetic differences, and the ecosystems they form. it is crucial for maintaining ecosystem services, which include air and water purification, pollination of plants, and climate regulation.the loss of biodiversity poses a significant threat to the health of our planet. activities such as deforestation, pollution, and climate change are driving many species to extinction. protecting biodiversity is essential not only for the survival of individual species but also for human well-being, as it supports food security and provides resources for medicine and economic development.. source: https://www.worldwildlife.org/pages/what-is-biodiversity'"
            ],
            "application/vnd.google.colaboratory.intrinsic+json": {
              "type": "string"
            }
          },
          "metadata": {},
          "execution_count": 50
        }
      ],
      "source": [
        "lowercased_text = text.lower()\n",
        "\n",
        "lowercased_text"
      ]
    },
    {
      "cell_type": "raw",
      "id": "f14a26a8-6312-40a2-a13d-b79f900fa780",
      "metadata": {
        "id": "f14a26a8-6312-40a2-a13d-b79f900fa780"
      },
      "source": [
        "2. removing punctuation and special characters"
      ]
    },
    {
      "cell_type": "code",
      "execution_count": 51,
      "id": "82a868bf-f310-49c9-9d56-62011ce06022",
      "metadata": {
        "colab": {
          "base_uri": "https://localhost:8080/",
          "height": 104
        },
        "id": "82a868bf-f310-49c9-9d56-62011ce06022",
        "outputId": "3b1b6f77-2068-4213-d3fc-cac5184946dd"
      },
      "outputs": [
        {
          "output_type": "execute_result",
          "data": {
            "text/plain": [
              "'Biodiversity refers to the variety of life on Earth encompassing all living organisms their genetic differences and the ecosystems they form It is crucial for maintaining ecosystem services which include air and water purification pollination of plants and climate regulationThe loss of biodiversity poses a significant threat to the health of our planet Activities such as deforestation pollution and climate change are driving many species to extinction Protecting biodiversity is essential not only for the survival of individual species but also for human wellbeing as it supports food security and provides resources for medicine and economic development Source httpswwwworldwildlifeorgpageswhatisbiodiversity'"
            ],
            "application/vnd.google.colaboratory.intrinsic+json": {
              "type": "string"
            }
          },
          "metadata": {},
          "execution_count": 51
        }
      ],
      "source": [
        "punctuation_pattern = r'[^\\w\\s]'\n",
        "text_cleaned = re.sub(punctuation_pattern, '', text)\n",
        "text_cleaned"
      ]
    },
    {
      "cell_type": "raw",
      "id": "8d0fdbb4-66d1-4943-a78e-ecd46a1fe855",
      "metadata": {
        "id": "8d0fdbb4-66d1-4943-a78e-ecd46a1fe855"
      },
      "source": [
        "3. Stop words removal & tokenisation"
      ]
    },
    {
      "cell_type": "code",
      "execution_count": 52,
      "id": "0efe3261-cb50-48c3-b1a4-a67372c7bc22",
      "metadata": {
        "colab": {
          "base_uri": "https://localhost:8080/"
        },
        "id": "0efe3261-cb50-48c3-b1a4-a67372c7bc22",
        "outputId": "85730def-fe0f-421a-863a-432c95392e55"
      },
      "outputs": [
        {
          "output_type": "stream",
          "name": "stderr",
          "text": [
            "[nltk_data] Downloading package stopwords to /root/nltk_data...\n",
            "[nltk_data]   Package stopwords is already up-to-date!\n"
          ]
        }
      ],
      "source": [
        "import nltk\n",
        "nltk.download('stopwords')\n",
        "from nltk.corpus import stopwords"
      ]
    },
    {
      "cell_type": "code",
      "execution_count": 53,
      "id": "c88e0c2e-9ec1-4f05-a6e6-f8fe4acc37ff",
      "metadata": {
        "id": "c88e0c2e-9ec1-4f05-a6e6-f8fe4acc37ff"
      },
      "outputs": [],
      "source": [
        "stop_words = set(stopwords.words('english'))"
      ]
    },
    {
      "cell_type": "code",
      "execution_count": 54,
      "id": "5ffb4a8a-9e18-46cb-ab70-ca1d9c77e971",
      "metadata": {
        "colab": {
          "base_uri": "https://localhost:8080/"
        },
        "id": "5ffb4a8a-9e18-46cb-ab70-ca1d9c77e971",
        "outputId": "0d4bfc9f-5bb2-4a32-ed20-35404a0d1e9e"
      },
      "outputs": [
        {
          "output_type": "stream",
          "name": "stdout",
          "text": [
            "{'did', \"don't\", 'before', 'we', 'these', 'there', 'such', 'ours', 'who', 'when', 'under', 'm', 'was', 'by', 'above', \"she's\", 'until', 'which', 'you', 'about', \"you'd\", 'too', 'having', 'does', 'had', 'other', \"you've\", \"doesn't\", 'doing', 'shan', 'been', 'am', 'is', 'being', 'weren', \"shouldn't\", 'very', 'whom', 'if', 'i', 'my', 'hers', 'itself', 'both', 'o', 'few', 'over', 'why', 'as', 'against', 'she', \"that'll\", 'than', 'off', 'own', 'some', 'here', \"hasn't\", 'not', 'll', 're', \"haven't\", 'wasn', \"won't\", 'hasn', \"you're\", 'isn', 'were', 'y', 'doesn', 'then', 'their', 'after', 'at', 'ma', \"you'll\", 'are', 'should', 'where', 'has', 'have', 'any', \"needn't\", \"isn't\", 've', 'all', 'during', 'its', 'because', 'further', 'ain', 'myself', 'most', 'mustn', 'theirs', 'those', 'himself', 'how', 'do', 'shouldn', 'down', 'ourselves', 'don', \"mustn't\", \"wouldn't\", \"mightn't\", 'but', 'only', 'now', 'themselves', 'into', 'in', 'once', \"wasn't\", 'between', 'yours', 'and', 'herself', \"weren't\", 'for', \"it's\", 'so', 'each', 'on', \"couldn't\", 'yourselves', 'up', 'out', 'same', 'to', 'will', 'didn', 'with', 'he', 'hadn', 'be', 'your', 'his', 'aren', 'nor', 'can', 'again', 'from', 'haven', 'while', 'the', 'of', 'mightn', \"shan't\", 'him', \"hadn't\", 'a', 'it', 't', 'me', 'this', 'below', \"aren't\", 'won', 'just', 'couldn', 'them', \"didn't\", 'no', 'they', 'needn', 'through', 'yourself', 'our', 'd', 's', 'that', 'an', \"should've\", 'or', 'her', 'more', 'wouldn', 'what'}\n"
          ]
        }
      ],
      "source": [
        "print(stop_words)"
      ]
    },
    {
      "cell_type": "code",
      "execution_count": 55,
      "id": "3fb99e5f-7dd4-4872-9b24-0fbaf88238ee",
      "metadata": {
        "colab": {
          "base_uri": "https://localhost:8080/"
        },
        "id": "3fb99e5f-7dd4-4872-9b24-0fbaf88238ee",
        "outputId": "c867002a-4677-46c7-8fae-783e3eae4ad4"
      },
      "outputs": [
        {
          "output_type": "stream",
          "name": "stderr",
          "text": [
            "[nltk_data] Downloading package punkt to /root/nltk_data...\n",
            "[nltk_data]   Package punkt is already up-to-date!\n"
          ]
        }
      ],
      "source": [
        "import nltk\n",
        "nltk.download('punkt')\n",
        "from nltk.tokenize import word_tokenize,sent_tokenize"
      ]
    },
    {
      "cell_type": "code",
      "execution_count": 56,
      "id": "cc2d07ef-f509-4134-9b75-159f2b9727e5",
      "metadata": {
        "id": "cc2d07ef-f509-4134-9b75-159f2b9727e5"
      },
      "outputs": [],
      "source": [
        "tokenize_words = word_tokenize(text)"
      ]
    },
    {
      "cell_type": "code",
      "execution_count": 57,
      "id": "252b0a9a-da30-4bb0-a746-ed0a053ee34c",
      "metadata": {
        "colab": {
          "base_uri": "https://localhost:8080/"
        },
        "id": "252b0a9a-da30-4bb0-a746-ed0a053ee34c",
        "outputId": "c3b02651-2986-4249-caac-701b1fa36df0"
      },
      "outputs": [
        {
          "output_type": "stream",
          "name": "stdout",
          "text": [
            "['Biodiversity', 'refers', 'to', 'the', 'variety', 'of', 'life', 'on', 'Earth', ',', 'encompassing', 'all', 'living', 'organisms', ',', 'their', 'genetic', 'differences', ',', 'and', 'the', 'ecosystems', 'they', 'form', '.', 'It', 'is', 'crucial', 'for', 'maintaining', 'ecosystem', 'services', ',', 'which', 'include', 'air', 'and', 'water', 'purification', ',', 'pollination', 'of', 'plants', ',', 'and', 'climate', 'regulation.The', 'loss', 'of', 'biodiversity', 'poses', 'a', 'significant', 'threat', 'to', 'the', 'health', 'of', 'our', 'planet', '.', 'Activities', 'such', 'as', 'deforestation', ',', 'pollution', ',', 'and', 'climate', 'change', 'are', 'driving', 'many', 'species', 'to', 'extinction', '.', 'Protecting', 'biodiversity', 'is', 'essential', 'not', 'only', 'for', 'the', 'survival', 'of', 'individual', 'species', 'but', 'also', 'for', 'human', 'well-being', ',', 'as', 'it', 'supports', 'food', 'security', 'and', 'provides', 'resources', 'for', 'medicine', 'and', 'economic', 'development', '..', 'Source', ':', 'https', ':', '//www.worldwildlife.org/pages/what-is-biodiversity']\n"
          ]
        }
      ],
      "source": [
        "print(tokenize_words)"
      ]
    },
    {
      "cell_type": "code",
      "execution_count": 58,
      "id": "435dd4a5-e873-47ef-85c1-021beff7c4a8",
      "metadata": {
        "colab": {
          "base_uri": "https://localhost:8080/"
        },
        "id": "435dd4a5-e873-47ef-85c1-021beff7c4a8",
        "outputId": "d7619f55-f344-479d-f6e9-d8e7a508ecb1"
      },
      "outputs": [
        {
          "output_type": "execute_result",
          "data": {
            "text/plain": [
              "['Biodiversity',\n",
              " 'refers',\n",
              " 'to',\n",
              " 'the',\n",
              " 'variety',\n",
              " 'of',\n",
              " 'life',\n",
              " 'on',\n",
              " 'Earth,',\n",
              " 'encompassing',\n",
              " 'all',\n",
              " 'living',\n",
              " 'organisms,',\n",
              " 'their',\n",
              " 'genetic',\n",
              " 'differences,',\n",
              " 'and',\n",
              " 'the',\n",
              " 'ecosystems',\n",
              " 'they',\n",
              " 'form.',\n",
              " 'It',\n",
              " 'is',\n",
              " 'crucial',\n",
              " 'for',\n",
              " 'maintaining',\n",
              " 'ecosystem',\n",
              " 'services,',\n",
              " 'which',\n",
              " 'include',\n",
              " 'air',\n",
              " 'and',\n",
              " 'water',\n",
              " 'purification,',\n",
              " 'pollination',\n",
              " 'of',\n",
              " 'plants,',\n",
              " 'and',\n",
              " 'climate',\n",
              " 'regulation.The',\n",
              " 'loss',\n",
              " 'of',\n",
              " 'biodiversity',\n",
              " 'poses',\n",
              " 'a',\n",
              " 'significant',\n",
              " 'threat',\n",
              " 'to',\n",
              " 'the',\n",
              " 'health',\n",
              " 'of',\n",
              " 'our',\n",
              " 'planet.',\n",
              " 'Activities',\n",
              " 'such',\n",
              " 'as',\n",
              " 'deforestation,',\n",
              " 'pollution,',\n",
              " 'and',\n",
              " 'climate',\n",
              " 'change',\n",
              " 'are',\n",
              " 'driving',\n",
              " 'many',\n",
              " 'species',\n",
              " 'to',\n",
              " 'extinction.',\n",
              " 'Protecting',\n",
              " 'biodiversity',\n",
              " 'is',\n",
              " 'essential',\n",
              " 'not',\n",
              " 'only',\n",
              " 'for',\n",
              " 'the',\n",
              " 'survival',\n",
              " 'of',\n",
              " 'individual',\n",
              " 'species',\n",
              " 'but',\n",
              " 'also',\n",
              " 'for',\n",
              " 'human',\n",
              " 'well-being,',\n",
              " 'as',\n",
              " 'it',\n",
              " 'supports',\n",
              " 'food',\n",
              " 'security',\n",
              " 'and',\n",
              " 'provides',\n",
              " 'resources',\n",
              " 'for',\n",
              " 'medicine',\n",
              " 'and',\n",
              " 'economic',\n",
              " 'development..',\n",
              " 'Source:',\n",
              " 'https://www.worldwildlife.org/pages/what-is-biodiversity']"
            ]
          },
          "metadata": {},
          "execution_count": 58
        }
      ],
      "source": [
        "word_tokens = text.split()\n",
        "word_tokens"
      ]
    },
    {
      "cell_type": "code",
      "execution_count": 59,
      "id": "b3045c2c-6b90-498f-be2a-fb1f50cef3c5",
      "metadata": {
        "colab": {
          "base_uri": "https://localhost:8080/"
        },
        "id": "b3045c2c-6b90-498f-be2a-fb1f50cef3c5",
        "outputId": "e9a9a100-7bbf-4a60-dbd1-fe83e83bd1ad"
      },
      "outputs": [
        {
          "output_type": "stream",
          "name": "stdout",
          "text": [
            "Filtered Text: ['Biodiversity', 'refers', 'variety', 'life', 'Earth,', 'encompassing', 'living', 'organisms,', 'genetic', 'differences,', 'ecosystems', 'form.', 'It', 'crucial', 'maintaining', 'ecosystem', 'services,', 'include', 'air', 'water', 'purification,', 'pollination', 'plants,', 'climate', 'regulation.The', 'loss', 'biodiversity', 'poses', 'significant', 'threat', 'health', 'planet.', 'Activities', 'deforestation,', 'pollution,', 'climate', 'change', 'driving', 'many', 'species', 'extinction.', 'Protecting', 'biodiversity', 'essential', 'survival', 'individual', 'species', 'also', 'human', 'well-being,', 'supports', 'food', 'security', 'provides', 'resources', 'medicine', 'economic', 'development..', 'Source:', 'https://www.worldwildlife.org/pages/what-is-biodiversity']\n"
          ]
        }
      ],
      "source": [
        "filtered_text = [word for word in word_tokens if word not in stop_words]\n",
        "print(\"Filtered Text:\", filtered_text)"
      ]
    },
    {
      "cell_type": "raw",
      "id": "28406499-08b5-43d3-8cb3-fd8080af68dd",
      "metadata": {
        "id": "28406499-08b5-43d3-8cb3-fd8080af68dd"
      },
      "source": [
        "4. Removal of URLs"
      ]
    },
    {
      "cell_type": "code",
      "execution_count": 60,
      "id": "7f69f530-1ad0-4dd9-a255-7dccb799a1a4",
      "metadata": {
        "id": "7f69f530-1ad0-4dd9-a255-7dccb799a1a4"
      },
      "outputs": [],
      "source": [
        "def remove_urls(text):\n",
        "    url_pattern = re.compile(r'https?://\\S+|www\\.\\S+')\n",
        "    return url_pattern.sub(r'', text)"
      ]
    },
    {
      "cell_type": "code",
      "execution_count": 61,
      "id": "cd2910b3-066e-4438-80d9-1c204dcd20b7",
      "metadata": {
        "colab": {
          "base_uri": "https://localhost:8080/",
          "height": 104
        },
        "id": "cd2910b3-066e-4438-80d9-1c204dcd20b7",
        "outputId": "792135b8-1659-46d6-fd4c-b0d63d38a223"
      },
      "outputs": [
        {
          "output_type": "execute_result",
          "data": {
            "text/plain": [
              "'Biodiversity refers to the variety of life on Earth, encompassing all living organisms, their genetic differences, and the ecosystems they form. It is crucial for maintaining ecosystem services, which include air and water purification, pollination of plants, and climate regulation.The loss of biodiversity poses a significant threat to the health of our planet. Activities such as deforestation, pollution, and climate change are driving many species to extinction. Protecting biodiversity is essential not only for the survival of individual species but also for human well-being, as it supports food security and provides resources for medicine and economic development.. Source: '"
            ],
            "application/vnd.google.colaboratory.intrinsic+json": {
              "type": "string"
            }
          },
          "metadata": {},
          "execution_count": 61
        }
      ],
      "source": [
        "remove_urls(text)"
      ]
    },
    {
      "cell_type": "markdown",
      "source": [],
      "metadata": {
        "id": "LVivFG5CayBf"
      },
      "id": "LVivFG5CayBf"
    },
    {
      "cell_type": "markdown",
      "source": [
        "5. stemming\n"
      ],
      "metadata": {
        "id": "GvNAqry_atwO"
      },
      "id": "GvNAqry_atwO"
    },
    {
      "cell_type": "code",
      "execution_count": 62,
      "id": "7537bfa1-bcc4-47d9-be2c-87c9e143ab0d",
      "metadata": {
        "id": "7537bfa1-bcc4-47d9-be2c-87c9e143ab0d"
      },
      "outputs": [],
      "source": [
        "from nltk.stem.porter import PorterStemmer"
      ]
    },
    {
      "cell_type": "code",
      "execution_count": 63,
      "id": "3bfca5d0-f966-4f92-94e4-ce500fd2a0ae",
      "metadata": {
        "id": "3bfca5d0-f966-4f92-94e4-ce500fd2a0ae"
      },
      "outputs": [],
      "source": [
        "stemmer = PorterStemmer()"
      ]
    },
    {
      "cell_type": "code",
      "execution_count": 64,
      "id": "e02077fd-3ae2-4ffa-b7ae-cf64b54191b4",
      "metadata": {
        "id": "e02077fd-3ae2-4ffa-b7ae-cf64b54191b4"
      },
      "outputs": [],
      "source": [
        "def stem_words(text):\n",
        "    word_tokens = text.split()\n",
        "    stems = [stemmer.stem(word) for word in word_tokens]\n",
        "    return stems"
      ]
    },
    {
      "cell_type": "code",
      "execution_count": 65,
      "id": "d2db44fd-eebb-4fcd-a033-a54bf4144aba",
      "metadata": {
        "colab": {
          "base_uri": "https://localhost:8080/"
        },
        "id": "d2db44fd-eebb-4fcd-a033-a54bf4144aba",
        "outputId": "57cd1c9a-d4c3-4954-ad05-2d0edcf938a5"
      },
      "outputs": [
        {
          "output_type": "execute_result",
          "data": {
            "text/plain": [
              "['biodivers',\n",
              " 'refer',\n",
              " 'to',\n",
              " 'the',\n",
              " 'varieti',\n",
              " 'of',\n",
              " 'life',\n",
              " 'on',\n",
              " 'earth,',\n",
              " 'encompass',\n",
              " 'all',\n",
              " 'live',\n",
              " 'organisms,',\n",
              " 'their',\n",
              " 'genet',\n",
              " 'differences,',\n",
              " 'and',\n",
              " 'the',\n",
              " 'ecosystem',\n",
              " 'they',\n",
              " 'form.',\n",
              " 'it',\n",
              " 'is',\n",
              " 'crucial',\n",
              " 'for',\n",
              " 'maintain',\n",
              " 'ecosystem',\n",
              " 'services,',\n",
              " 'which',\n",
              " 'includ',\n",
              " 'air',\n",
              " 'and',\n",
              " 'water',\n",
              " 'purification,',\n",
              " 'pollin',\n",
              " 'of',\n",
              " 'plants,',\n",
              " 'and',\n",
              " 'climat',\n",
              " 'regulation.th',\n",
              " 'loss',\n",
              " 'of',\n",
              " 'biodivers',\n",
              " 'pose',\n",
              " 'a',\n",
              " 'signific',\n",
              " 'threat',\n",
              " 'to',\n",
              " 'the',\n",
              " 'health',\n",
              " 'of',\n",
              " 'our',\n",
              " 'planet.',\n",
              " 'activ',\n",
              " 'such',\n",
              " 'as',\n",
              " 'deforestation,',\n",
              " 'pollution,',\n",
              " 'and',\n",
              " 'climat',\n",
              " 'chang',\n",
              " 'are',\n",
              " 'drive',\n",
              " 'mani',\n",
              " 'speci',\n",
              " 'to',\n",
              " 'extinction.',\n",
              " 'protect',\n",
              " 'biodivers',\n",
              " 'is',\n",
              " 'essenti',\n",
              " 'not',\n",
              " 'onli',\n",
              " 'for',\n",
              " 'the',\n",
              " 'surviv',\n",
              " 'of',\n",
              " 'individu',\n",
              " 'speci',\n",
              " 'but',\n",
              " 'also',\n",
              " 'for',\n",
              " 'human',\n",
              " 'well-being,',\n",
              " 'as',\n",
              " 'it',\n",
              " 'support',\n",
              " 'food',\n",
              " 'secur',\n",
              " 'and',\n",
              " 'provid',\n",
              " 'resourc',\n",
              " 'for',\n",
              " 'medicin',\n",
              " 'and',\n",
              " 'econom',\n",
              " 'development..',\n",
              " 'source:',\n",
              " 'https://www.worldwildlife.org/pages/what-is-biodivers']"
            ]
          },
          "metadata": {},
          "execution_count": 65
        }
      ],
      "source": [
        "stem_words(text)"
      ]
    },
    {
      "cell_type": "raw",
      "id": "d1220010-75a7-4c44-a3b9-16e8728fc075",
      "metadata": {
        "id": "d1220010-75a7-4c44-a3b9-16e8728fc075"
      },
      "source": [
        "6. Lemmatisation"
      ]
    },
    {
      "cell_type": "code",
      "execution_count": 66,
      "id": "8f6873f7-2d80-4478-8887-04bbe3f0fc0c",
      "metadata": {
        "colab": {
          "base_uri": "https://localhost:8080/"
        },
        "id": "8f6873f7-2d80-4478-8887-04bbe3f0fc0c",
        "outputId": "cc8f856a-886c-431b-b914-930098993b36"
      },
      "outputs": [
        {
          "output_type": "stream",
          "name": "stderr",
          "text": [
            "[nltk_data] Downloading package wordnet to /root/nltk_data...\n",
            "[nltk_data]   Package wordnet is already up-to-date!\n"
          ]
        }
      ],
      "source": [
        "import nltk\n",
        "nltk.download('wordnet')\n",
        "from nltk.stem import WordNetLemmatizer"
      ]
    },
    {
      "cell_type": "code",
      "execution_count": 67,
      "id": "89143ba6-325b-4ac0-9d71-a0fab6f9e16b",
      "metadata": {
        "id": "89143ba6-325b-4ac0-9d71-a0fab6f9e16b"
      },
      "outputs": [],
      "source": [
        "lemmatizer = WordNetLemmatizer()"
      ]
    },
    {
      "cell_type": "code",
      "execution_count": 68,
      "id": "2cba5db3-1e41-4b4b-b729-67ca78db2874",
      "metadata": {
        "id": "2cba5db3-1e41-4b4b-b729-67ca78db2874"
      },
      "outputs": [],
      "source": [
        "def lemmatize_word(text):\n",
        "    word_tokens = text.split()\n",
        "    lemmas = [lemmatizer.lemmatize(word, pos ='v') for word in word_tokens]\n",
        "    return lemmas"
      ]
    },
    {
      "cell_type": "code",
      "execution_count": 69,
      "id": "add774b8-7484-4760-b875-8eb713f8069e",
      "metadata": {
        "colab": {
          "base_uri": "https://localhost:8080/"
        },
        "id": "add774b8-7484-4760-b875-8eb713f8069e",
        "outputId": "057d2df9-8223-422f-d06e-79350d12eb18"
      },
      "outputs": [
        {
          "output_type": "execute_result",
          "data": {
            "text/plain": [
              "['Biodiversity',\n",
              " 'refer',\n",
              " 'to',\n",
              " 'the',\n",
              " 'variety',\n",
              " 'of',\n",
              " 'life',\n",
              " 'on',\n",
              " 'Earth,',\n",
              " 'encompass',\n",
              " 'all',\n",
              " 'live',\n",
              " 'organisms,',\n",
              " 'their',\n",
              " 'genetic',\n",
              " 'differences,',\n",
              " 'and',\n",
              " 'the',\n",
              " 'ecosystems',\n",
              " 'they',\n",
              " 'form.',\n",
              " 'It',\n",
              " 'be',\n",
              " 'crucial',\n",
              " 'for',\n",
              " 'maintain',\n",
              " 'ecosystem',\n",
              " 'services,',\n",
              " 'which',\n",
              " 'include',\n",
              " 'air',\n",
              " 'and',\n",
              " 'water',\n",
              " 'purification,',\n",
              " 'pollination',\n",
              " 'of',\n",
              " 'plants,',\n",
              " 'and',\n",
              " 'climate',\n",
              " 'regulation.The',\n",
              " 'loss',\n",
              " 'of',\n",
              " 'biodiversity',\n",
              " 'pose',\n",
              " 'a',\n",
              " 'significant',\n",
              " 'threat',\n",
              " 'to',\n",
              " 'the',\n",
              " 'health',\n",
              " 'of',\n",
              " 'our',\n",
              " 'planet.',\n",
              " 'Activities',\n",
              " 'such',\n",
              " 'as',\n",
              " 'deforestation,',\n",
              " 'pollution,',\n",
              " 'and',\n",
              " 'climate',\n",
              " 'change',\n",
              " 'be',\n",
              " 'drive',\n",
              " 'many',\n",
              " 'species',\n",
              " 'to',\n",
              " 'extinction.',\n",
              " 'Protecting',\n",
              " 'biodiversity',\n",
              " 'be',\n",
              " 'essential',\n",
              " 'not',\n",
              " 'only',\n",
              " 'for',\n",
              " 'the',\n",
              " 'survival',\n",
              " 'of',\n",
              " 'individual',\n",
              " 'species',\n",
              " 'but',\n",
              " 'also',\n",
              " 'for',\n",
              " 'human',\n",
              " 'well-being,',\n",
              " 'as',\n",
              " 'it',\n",
              " 'support',\n",
              " 'food',\n",
              " 'security',\n",
              " 'and',\n",
              " 'provide',\n",
              " 'resources',\n",
              " 'for',\n",
              " 'medicine',\n",
              " 'and',\n",
              " 'economic',\n",
              " 'development..',\n",
              " 'Source:',\n",
              " 'https://www.worldwildlife.org/pages/what-is-biodiversity']"
            ]
          },
          "metadata": {},
          "execution_count": 69
        }
      ],
      "source": [
        "lemmatize_word(text)"
      ]
    },
    {
      "cell_type": "raw",
      "id": "edb098de-89ed-43bb-8f98-b502267188e2",
      "metadata": {
        "id": "edb098de-89ed-43bb-8f98-b502267188e2"
      },
      "source": [
        "**7**. Tokenise"
      ]
    },
    {
      "cell_type": "code",
      "execution_count": 70,
      "id": "51440236-c1b1-4773-9c8d-4eb67043d596",
      "metadata": {
        "colab": {
          "base_uri": "https://localhost:8080/"
        },
        "id": "51440236-c1b1-4773-9c8d-4eb67043d596",
        "outputId": "04b548b3-0739-41c0-ab14-09a3305e91fb"
      },
      "outputs": [
        {
          "output_type": "stream",
          "name": "stdout",
          "text": [
            "['Biodiversity', 'refers', 'to', 'the', 'variety', 'of', 'life', 'on', 'Earth', ',', 'encompassing', 'all', 'living', 'organisms', ',', 'their', 'genetic', 'differences', ',', 'and', 'the', 'ecosystems', 'they', 'form', '.', 'It', 'is', 'crucial', 'for', 'maintaining', 'ecosystem', 'services', ',', 'which', 'include', 'air', 'and', 'water', 'purification', ',', 'pollination', 'of', 'plants', ',', 'and', 'climate', 'regulation.The', 'loss', 'of', 'biodiversity', 'poses', 'a', 'significant', 'threat', 'to', 'the', 'health', 'of', 'our', 'planet', '.', 'Activities', 'such', 'as', 'deforestation', ',', 'pollution', ',', 'and', 'climate', 'change', 'are', 'driving', 'many', 'species', 'to', 'extinction', '.', 'Protecting', 'biodiversity', 'is', 'essential', 'not', 'only', 'for', 'the', 'survival', 'of', 'individual', 'species', 'but', 'also', 'for', 'human', 'well-being', ',', 'as', 'it', 'supports', 'food', 'security', 'and', 'provides', 'resources', 'for', 'medicine', 'and', 'economic', 'development', '..', 'Source', ':', 'https', ':', '//www.worldwildlife.org/pages/what-is-biodiversity']\n"
          ]
        }
      ],
      "source": [
        "tokens = word_tokenize(text)\n",
        "print(tokens)"
      ]
    },
    {
      "cell_type": "raw",
      "id": "c77dbe70-d92f-42ca-b387-2a2912566760",
      "metadata": {
        "id": "c77dbe70-d92f-42ca-b387-2a2912566760"
      },
      "source": [
        "8. Bag of Words"
      ]
    },
    {
      "cell_type": "code",
      "execution_count": 71,
      "id": "9ea089c8-c09d-465a-bae6-ab674f0635e8",
      "metadata": {
        "id": "9ea089c8-c09d-465a-bae6-ab674f0635e8"
      },
      "outputs": [],
      "source": [
        "from sklearn.feature_extraction.text import CountVectorizer"
      ]
    },
    {
      "cell_type": "code",
      "execution_count": 72,
      "id": "a9c13720-0849-4dc8-8fff-a6d5a1990ed0",
      "metadata": {
        "id": "a9c13720-0849-4dc8-8fff-a6d5a1990ed0"
      },
      "outputs": [],
      "source": [
        "vectorizer = CountVectorizer()\n",
        "X = vectorizer.fit_transform(tokens)\n",
        "feature_names = vectorizer.get_feature_names_out()\n",
        "X_array = X.toarray()"
      ]
    },
    {
      "cell_type": "code",
      "execution_count": 73,
      "id": "d1558d42-9272-4cf7-9f8e-f7d52b6d2307",
      "metadata": {
        "colab": {
          "base_uri": "https://localhost:8080/"
        },
        "id": "d1558d42-9272-4cf7-9f8e-f7d52b6d2307",
        "outputId": "5164f4aa-bdc7-45f5-babe-48bcb455f86b"
      },
      "outputs": [
        {
          "output_type": "stream",
          "name": "stdout",
          "text": [
            "Unique Word List: \n",
            " ['activities' 'air' 'all' 'also' 'and' 'are' 'as' 'being' 'biodiversity'\n",
            " 'but' 'change' 'climate' 'crucial' 'deforestation' 'development'\n",
            " 'differences' 'driving' 'earth' 'economic' 'ecosystem' 'ecosystems'\n",
            " 'encompassing' 'essential' 'extinction' 'food' 'for' 'form' 'genetic'\n",
            " 'health' 'https' 'human' 'include' 'individual' 'is' 'it' 'life' 'living'\n",
            " 'loss' 'maintaining' 'many' 'medicine' 'not' 'of' 'on' 'only' 'org'\n",
            " 'organisms' 'our' 'pages' 'planet' 'plants' 'pollination' 'pollution'\n",
            " 'poses' 'protecting' 'provides' 'purification' 'refers' 'regulation'\n",
            " 'resources' 'security' 'services' 'significant' 'source' 'species' 'such'\n",
            " 'supports' 'survival' 'the' 'their' 'they' 'threat' 'to' 'variety'\n",
            " 'water' 'well' 'what' 'which' 'worldwildlife' 'www']\n",
            "Bag of Words Matrix: \n",
            " [[0 0 0 ... 0 0 0]\n",
            " [0 0 0 ... 0 0 0]\n",
            " [0 0 0 ... 0 0 0]\n",
            " ...\n",
            " [0 0 0 ... 0 0 0]\n",
            " [0 0 0 ... 0 0 0]\n",
            " [0 0 0 ... 0 1 1]]\n"
          ]
        }
      ],
      "source": [
        "print(\"Unique Word List: \\n\", feature_names)\n",
        "print(\"Bag of Words Matrix: \\n\", X_array)"
      ]
    },
    {
      "cell_type": "code",
      "execution_count": 74,
      "id": "0cb3468c-c43f-4b55-84a1-77a567faee06",
      "metadata": {
        "id": "0cb3468c-c43f-4b55-84a1-77a567faee06"
      },
      "outputs": [],
      "source": [
        "import pandas as pd"
      ]
    },
    {
      "cell_type": "code",
      "execution_count": 75,
      "id": "d7ca62c4-8cad-4595-a027-1fb2ddf4ee77",
      "metadata": {
        "colab": {
          "base_uri": "https://localhost:8080/",
          "height": 461
        },
        "id": "d7ca62c4-8cad-4595-a027-1fb2ddf4ee77",
        "outputId": "a28bb427-1fc9-4299-f9e1-ac1994274af0"
      },
      "outputs": [
        {
          "output_type": "execute_result",
          "data": {
            "text/plain": [
              "                                                    activities  air  all  \\\n",
              "Biodiversity                                                 0    0    0   \n",
              "refers                                                       0    0    0   \n",
              "to                                                           0    0    0   \n",
              "the                                                          0    0    0   \n",
              "variety                                                      0    0    0   \n",
              "...                                                        ...  ...  ...   \n",
              "Source                                                       0    0    0   \n",
              ":                                                            0    0    0   \n",
              "https                                                        0    0    0   \n",
              ":                                                            0    0    0   \n",
              "//www.worldwildlife.org/pages/what-is-biodiversity           0    0    0   \n",
              "\n",
              "                                                    also  and  are  as  being  \\\n",
              "Biodiversity                                           0    0    0   0      0   \n",
              "refers                                                 0    0    0   0      0   \n",
              "to                                                     0    0    0   0      0   \n",
              "the                                                    0    0    0   0      0   \n",
              "variety                                                0    0    0   0      0   \n",
              "...                                                  ...  ...  ...  ..    ...   \n",
              "Source                                                 0    0    0   0      0   \n",
              ":                                                      0    0    0   0      0   \n",
              "https                                                  0    0    0   0      0   \n",
              ":                                                      0    0    0   0      0   \n",
              "//www.worldwildlife.org/pages/what-is-biodiversity     0    0    0   0      0   \n",
              "\n",
              "                                                    biodiversity  but  ...  \\\n",
              "Biodiversity                                                   1    0  ...   \n",
              "refers                                                         0    0  ...   \n",
              "to                                                             0    0  ...   \n",
              "the                                                            0    0  ...   \n",
              "variety                                                        0    0  ...   \n",
              "...                                                          ...  ...  ...   \n",
              "Source                                                         0    0  ...   \n",
              ":                                                              0    0  ...   \n",
              "https                                                          0    0  ...   \n",
              ":                                                              0    0  ...   \n",
              "//www.worldwildlife.org/pages/what-is-biodiversity             1    0  ...   \n",
              "\n",
              "                                                    they  threat  to  variety  \\\n",
              "Biodiversity                                           0       0   0        0   \n",
              "refers                                                 0       0   0        0   \n",
              "to                                                     0       0   1        0   \n",
              "the                                                    0       0   0        0   \n",
              "variety                                                0       0   0        1   \n",
              "...                                                  ...     ...  ..      ...   \n",
              "Source                                                 0       0   0        0   \n",
              ":                                                      0       0   0        0   \n",
              "https                                                  0       0   0        0   \n",
              ":                                                      0       0   0        0   \n",
              "//www.worldwildlife.org/pages/what-is-biodiversity     0       0   0        0   \n",
              "\n",
              "                                                    water  well  what  which  \\\n",
              "Biodiversity                                            0     0     0      0   \n",
              "refers                                                  0     0     0      0   \n",
              "to                                                      0     0     0      0   \n",
              "the                                                     0     0     0      0   \n",
              "variety                                                 0     0     0      0   \n",
              "...                                                   ...   ...   ...    ...   \n",
              "Source                                                  0     0     0      0   \n",
              ":                                                       0     0     0      0   \n",
              "https                                                   0     0     0      0   \n",
              ":                                                       0     0     0      0   \n",
              "//www.worldwildlife.org/pages/what-is-biodiversity      0     0     1      0   \n",
              "\n",
              "                                                    worldwildlife  www  \n",
              "Biodiversity                                                    0    0  \n",
              "refers                                                          0    0  \n",
              "to                                                              0    0  \n",
              "the                                                             0    0  \n",
              "variety                                                         0    0  \n",
              "...                                                           ...  ...  \n",
              "Source                                                          0    0  \n",
              ":                                                               0    0  \n",
              "https                                                           0    0  \n",
              ":                                                               0    0  \n",
              "//www.worldwildlife.org/pages/what-is-biodiversity              1    1  \n",
              "\n",
              "[115 rows x 80 columns]"
            ],
            "text/html": [
              "\n",
              "  <div id=\"df-8a575130-beee-4819-843b-bbfc796c4456\" class=\"colab-df-container\">\n",
              "    <div>\n",
              "<style scoped>\n",
              "    .dataframe tbody tr th:only-of-type {\n",
              "        vertical-align: middle;\n",
              "    }\n",
              "\n",
              "    .dataframe tbody tr th {\n",
              "        vertical-align: top;\n",
              "    }\n",
              "\n",
              "    .dataframe thead th {\n",
              "        text-align: right;\n",
              "    }\n",
              "</style>\n",
              "<table border=\"1\" class=\"dataframe\">\n",
              "  <thead>\n",
              "    <tr style=\"text-align: right;\">\n",
              "      <th></th>\n",
              "      <th>activities</th>\n",
              "      <th>air</th>\n",
              "      <th>all</th>\n",
              "      <th>also</th>\n",
              "      <th>and</th>\n",
              "      <th>are</th>\n",
              "      <th>as</th>\n",
              "      <th>being</th>\n",
              "      <th>biodiversity</th>\n",
              "      <th>but</th>\n",
              "      <th>...</th>\n",
              "      <th>they</th>\n",
              "      <th>threat</th>\n",
              "      <th>to</th>\n",
              "      <th>variety</th>\n",
              "      <th>water</th>\n",
              "      <th>well</th>\n",
              "      <th>what</th>\n",
              "      <th>which</th>\n",
              "      <th>worldwildlife</th>\n",
              "      <th>www</th>\n",
              "    </tr>\n",
              "  </thead>\n",
              "  <tbody>\n",
              "    <tr>\n",
              "      <th>Biodiversity</th>\n",
              "      <td>0</td>\n",
              "      <td>0</td>\n",
              "      <td>0</td>\n",
              "      <td>0</td>\n",
              "      <td>0</td>\n",
              "      <td>0</td>\n",
              "      <td>0</td>\n",
              "      <td>0</td>\n",
              "      <td>1</td>\n",
              "      <td>0</td>\n",
              "      <td>...</td>\n",
              "      <td>0</td>\n",
              "      <td>0</td>\n",
              "      <td>0</td>\n",
              "      <td>0</td>\n",
              "      <td>0</td>\n",
              "      <td>0</td>\n",
              "      <td>0</td>\n",
              "      <td>0</td>\n",
              "      <td>0</td>\n",
              "      <td>0</td>\n",
              "    </tr>\n",
              "    <tr>\n",
              "      <th>refers</th>\n",
              "      <td>0</td>\n",
              "      <td>0</td>\n",
              "      <td>0</td>\n",
              "      <td>0</td>\n",
              "      <td>0</td>\n",
              "      <td>0</td>\n",
              "      <td>0</td>\n",
              "      <td>0</td>\n",
              "      <td>0</td>\n",
              "      <td>0</td>\n",
              "      <td>...</td>\n",
              "      <td>0</td>\n",
              "      <td>0</td>\n",
              "      <td>0</td>\n",
              "      <td>0</td>\n",
              "      <td>0</td>\n",
              "      <td>0</td>\n",
              "      <td>0</td>\n",
              "      <td>0</td>\n",
              "      <td>0</td>\n",
              "      <td>0</td>\n",
              "    </tr>\n",
              "    <tr>\n",
              "      <th>to</th>\n",
              "      <td>0</td>\n",
              "      <td>0</td>\n",
              "      <td>0</td>\n",
              "      <td>0</td>\n",
              "      <td>0</td>\n",
              "      <td>0</td>\n",
              "      <td>0</td>\n",
              "      <td>0</td>\n",
              "      <td>0</td>\n",
              "      <td>0</td>\n",
              "      <td>...</td>\n",
              "      <td>0</td>\n",
              "      <td>0</td>\n",
              "      <td>1</td>\n",
              "      <td>0</td>\n",
              "      <td>0</td>\n",
              "      <td>0</td>\n",
              "      <td>0</td>\n",
              "      <td>0</td>\n",
              "      <td>0</td>\n",
              "      <td>0</td>\n",
              "    </tr>\n",
              "    <tr>\n",
              "      <th>the</th>\n",
              "      <td>0</td>\n",
              "      <td>0</td>\n",
              "      <td>0</td>\n",
              "      <td>0</td>\n",
              "      <td>0</td>\n",
              "      <td>0</td>\n",
              "      <td>0</td>\n",
              "      <td>0</td>\n",
              "      <td>0</td>\n",
              "      <td>0</td>\n",
              "      <td>...</td>\n",
              "      <td>0</td>\n",
              "      <td>0</td>\n",
              "      <td>0</td>\n",
              "      <td>0</td>\n",
              "      <td>0</td>\n",
              "      <td>0</td>\n",
              "      <td>0</td>\n",
              "      <td>0</td>\n",
              "      <td>0</td>\n",
              "      <td>0</td>\n",
              "    </tr>\n",
              "    <tr>\n",
              "      <th>variety</th>\n",
              "      <td>0</td>\n",
              "      <td>0</td>\n",
              "      <td>0</td>\n",
              "      <td>0</td>\n",
              "      <td>0</td>\n",
              "      <td>0</td>\n",
              "      <td>0</td>\n",
              "      <td>0</td>\n",
              "      <td>0</td>\n",
              "      <td>0</td>\n",
              "      <td>...</td>\n",
              "      <td>0</td>\n",
              "      <td>0</td>\n",
              "      <td>0</td>\n",
              "      <td>1</td>\n",
              "      <td>0</td>\n",
              "      <td>0</td>\n",
              "      <td>0</td>\n",
              "      <td>0</td>\n",
              "      <td>0</td>\n",
              "      <td>0</td>\n",
              "    </tr>\n",
              "    <tr>\n",
              "      <th>...</th>\n",
              "      <td>...</td>\n",
              "      <td>...</td>\n",
              "      <td>...</td>\n",
              "      <td>...</td>\n",
              "      <td>...</td>\n",
              "      <td>...</td>\n",
              "      <td>...</td>\n",
              "      <td>...</td>\n",
              "      <td>...</td>\n",
              "      <td>...</td>\n",
              "      <td>...</td>\n",
              "      <td>...</td>\n",
              "      <td>...</td>\n",
              "      <td>...</td>\n",
              "      <td>...</td>\n",
              "      <td>...</td>\n",
              "      <td>...</td>\n",
              "      <td>...</td>\n",
              "      <td>...</td>\n",
              "      <td>...</td>\n",
              "      <td>...</td>\n",
              "    </tr>\n",
              "    <tr>\n",
              "      <th>Source</th>\n",
              "      <td>0</td>\n",
              "      <td>0</td>\n",
              "      <td>0</td>\n",
              "      <td>0</td>\n",
              "      <td>0</td>\n",
              "      <td>0</td>\n",
              "      <td>0</td>\n",
              "      <td>0</td>\n",
              "      <td>0</td>\n",
              "      <td>0</td>\n",
              "      <td>...</td>\n",
              "      <td>0</td>\n",
              "      <td>0</td>\n",
              "      <td>0</td>\n",
              "      <td>0</td>\n",
              "      <td>0</td>\n",
              "      <td>0</td>\n",
              "      <td>0</td>\n",
              "      <td>0</td>\n",
              "      <td>0</td>\n",
              "      <td>0</td>\n",
              "    </tr>\n",
              "    <tr>\n",
              "      <th>:</th>\n",
              "      <td>0</td>\n",
              "      <td>0</td>\n",
              "      <td>0</td>\n",
              "      <td>0</td>\n",
              "      <td>0</td>\n",
              "      <td>0</td>\n",
              "      <td>0</td>\n",
              "      <td>0</td>\n",
              "      <td>0</td>\n",
              "      <td>0</td>\n",
              "      <td>...</td>\n",
              "      <td>0</td>\n",
              "      <td>0</td>\n",
              "      <td>0</td>\n",
              "      <td>0</td>\n",
              "      <td>0</td>\n",
              "      <td>0</td>\n",
              "      <td>0</td>\n",
              "      <td>0</td>\n",
              "      <td>0</td>\n",
              "      <td>0</td>\n",
              "    </tr>\n",
              "    <tr>\n",
              "      <th>https</th>\n",
              "      <td>0</td>\n",
              "      <td>0</td>\n",
              "      <td>0</td>\n",
              "      <td>0</td>\n",
              "      <td>0</td>\n",
              "      <td>0</td>\n",
              "      <td>0</td>\n",
              "      <td>0</td>\n",
              "      <td>0</td>\n",
              "      <td>0</td>\n",
              "      <td>...</td>\n",
              "      <td>0</td>\n",
              "      <td>0</td>\n",
              "      <td>0</td>\n",
              "      <td>0</td>\n",
              "      <td>0</td>\n",
              "      <td>0</td>\n",
              "      <td>0</td>\n",
              "      <td>0</td>\n",
              "      <td>0</td>\n",
              "      <td>0</td>\n",
              "    </tr>\n",
              "    <tr>\n",
              "      <th>:</th>\n",
              "      <td>0</td>\n",
              "      <td>0</td>\n",
              "      <td>0</td>\n",
              "      <td>0</td>\n",
              "      <td>0</td>\n",
              "      <td>0</td>\n",
              "      <td>0</td>\n",
              "      <td>0</td>\n",
              "      <td>0</td>\n",
              "      <td>0</td>\n",
              "      <td>...</td>\n",
              "      <td>0</td>\n",
              "      <td>0</td>\n",
              "      <td>0</td>\n",
              "      <td>0</td>\n",
              "      <td>0</td>\n",
              "      <td>0</td>\n",
              "      <td>0</td>\n",
              "      <td>0</td>\n",
              "      <td>0</td>\n",
              "      <td>0</td>\n",
              "    </tr>\n",
              "    <tr>\n",
              "      <th>//www.worldwildlife.org/pages/what-is-biodiversity</th>\n",
              "      <td>0</td>\n",
              "      <td>0</td>\n",
              "      <td>0</td>\n",
              "      <td>0</td>\n",
              "      <td>0</td>\n",
              "      <td>0</td>\n",
              "      <td>0</td>\n",
              "      <td>0</td>\n",
              "      <td>1</td>\n",
              "      <td>0</td>\n",
              "      <td>...</td>\n",
              "      <td>0</td>\n",
              "      <td>0</td>\n",
              "      <td>0</td>\n",
              "      <td>0</td>\n",
              "      <td>0</td>\n",
              "      <td>0</td>\n",
              "      <td>1</td>\n",
              "      <td>0</td>\n",
              "      <td>1</td>\n",
              "      <td>1</td>\n",
              "    </tr>\n",
              "  </tbody>\n",
              "</table>\n",
              "<p>115 rows × 80 columns</p>\n",
              "</div>\n",
              "    <div class=\"colab-df-buttons\">\n",
              "\n",
              "  <div class=\"colab-df-container\">\n",
              "    <button class=\"colab-df-convert\" onclick=\"convertToInteractive('df-8a575130-beee-4819-843b-bbfc796c4456')\"\n",
              "            title=\"Convert this dataframe to an interactive table.\"\n",
              "            style=\"display:none;\">\n",
              "\n",
              "  <svg xmlns=\"http://www.w3.org/2000/svg\" height=\"24px\" viewBox=\"0 -960 960 960\">\n",
              "    <path d=\"M120-120v-720h720v720H120Zm60-500h600v-160H180v160Zm220 220h160v-160H400v160Zm0 220h160v-160H400v160ZM180-400h160v-160H180v160Zm440 0h160v-160H620v160ZM180-180h160v-160H180v160Zm440 0h160v-160H620v160Z\"/>\n",
              "  </svg>\n",
              "    </button>\n",
              "\n",
              "  <style>\n",
              "    .colab-df-container {\n",
              "      display:flex;\n",
              "      gap: 12px;\n",
              "    }\n",
              "\n",
              "    .colab-df-convert {\n",
              "      background-color: #E8F0FE;\n",
              "      border: none;\n",
              "      border-radius: 50%;\n",
              "      cursor: pointer;\n",
              "      display: none;\n",
              "      fill: #1967D2;\n",
              "      height: 32px;\n",
              "      padding: 0 0 0 0;\n",
              "      width: 32px;\n",
              "    }\n",
              "\n",
              "    .colab-df-convert:hover {\n",
              "      background-color: #E2EBFA;\n",
              "      box-shadow: 0px 1px 2px rgba(60, 64, 67, 0.3), 0px 1px 3px 1px rgba(60, 64, 67, 0.15);\n",
              "      fill: #174EA6;\n",
              "    }\n",
              "\n",
              "    .colab-df-buttons div {\n",
              "      margin-bottom: 4px;\n",
              "    }\n",
              "\n",
              "    [theme=dark] .colab-df-convert {\n",
              "      background-color: #3B4455;\n",
              "      fill: #D2E3FC;\n",
              "    }\n",
              "\n",
              "    [theme=dark] .colab-df-convert:hover {\n",
              "      background-color: #434B5C;\n",
              "      box-shadow: 0px 1px 3px 1px rgba(0, 0, 0, 0.15);\n",
              "      filter: drop-shadow(0px 1px 2px rgba(0, 0, 0, 0.3));\n",
              "      fill: #FFFFFF;\n",
              "    }\n",
              "  </style>\n",
              "\n",
              "    <script>\n",
              "      const buttonEl =\n",
              "        document.querySelector('#df-8a575130-beee-4819-843b-bbfc796c4456 button.colab-df-convert');\n",
              "      buttonEl.style.display =\n",
              "        google.colab.kernel.accessAllowed ? 'block' : 'none';\n",
              "\n",
              "      async function convertToInteractive(key) {\n",
              "        const element = document.querySelector('#df-8a575130-beee-4819-843b-bbfc796c4456');\n",
              "        const dataTable =\n",
              "          await google.colab.kernel.invokeFunction('convertToInteractive',\n",
              "                                                    [key], {});\n",
              "        if (!dataTable) return;\n",
              "\n",
              "        const docLinkHtml = 'Like what you see? Visit the ' +\n",
              "          '<a target=\"_blank\" href=https://colab.research.google.com/notebooks/data_table.ipynb>data table notebook</a>'\n",
              "          + ' to learn more about interactive tables.';\n",
              "        element.innerHTML = '';\n",
              "        dataTable['output_type'] = 'display_data';\n",
              "        await google.colab.output.renderOutput(dataTable, element);\n",
              "        const docLink = document.createElement('div');\n",
              "        docLink.innerHTML = docLinkHtml;\n",
              "        element.appendChild(docLink);\n",
              "      }\n",
              "    </script>\n",
              "  </div>\n",
              "\n",
              "\n",
              "<div id=\"df-8a1be3b2-f2a6-4ac1-9c40-6744331123f4\">\n",
              "  <button class=\"colab-df-quickchart\" onclick=\"quickchart('df-8a1be3b2-f2a6-4ac1-9c40-6744331123f4')\"\n",
              "            title=\"Suggest charts\"\n",
              "            style=\"display:none;\">\n",
              "\n",
              "<svg xmlns=\"http://www.w3.org/2000/svg\" height=\"24px\"viewBox=\"0 0 24 24\"\n",
              "     width=\"24px\">\n",
              "    <g>\n",
              "        <path d=\"M19 3H5c-1.1 0-2 .9-2 2v14c0 1.1.9 2 2 2h14c1.1 0 2-.9 2-2V5c0-1.1-.9-2-2-2zM9 17H7v-7h2v7zm4 0h-2V7h2v10zm4 0h-2v-4h2v4z\"/>\n",
              "    </g>\n",
              "</svg>\n",
              "  </button>\n",
              "\n",
              "<style>\n",
              "  .colab-df-quickchart {\n",
              "      --bg-color: #E8F0FE;\n",
              "      --fill-color: #1967D2;\n",
              "      --hover-bg-color: #E2EBFA;\n",
              "      --hover-fill-color: #174EA6;\n",
              "      --disabled-fill-color: #AAA;\n",
              "      --disabled-bg-color: #DDD;\n",
              "  }\n",
              "\n",
              "  [theme=dark] .colab-df-quickchart {\n",
              "      --bg-color: #3B4455;\n",
              "      --fill-color: #D2E3FC;\n",
              "      --hover-bg-color: #434B5C;\n",
              "      --hover-fill-color: #FFFFFF;\n",
              "      --disabled-bg-color: #3B4455;\n",
              "      --disabled-fill-color: #666;\n",
              "  }\n",
              "\n",
              "  .colab-df-quickchart {\n",
              "    background-color: var(--bg-color);\n",
              "    border: none;\n",
              "    border-radius: 50%;\n",
              "    cursor: pointer;\n",
              "    display: none;\n",
              "    fill: var(--fill-color);\n",
              "    height: 32px;\n",
              "    padding: 0;\n",
              "    width: 32px;\n",
              "  }\n",
              "\n",
              "  .colab-df-quickchart:hover {\n",
              "    background-color: var(--hover-bg-color);\n",
              "    box-shadow: 0 1px 2px rgba(60, 64, 67, 0.3), 0 1px 3px 1px rgba(60, 64, 67, 0.15);\n",
              "    fill: var(--button-hover-fill-color);\n",
              "  }\n",
              "\n",
              "  .colab-df-quickchart-complete:disabled,\n",
              "  .colab-df-quickchart-complete:disabled:hover {\n",
              "    background-color: var(--disabled-bg-color);\n",
              "    fill: var(--disabled-fill-color);\n",
              "    box-shadow: none;\n",
              "  }\n",
              "\n",
              "  .colab-df-spinner {\n",
              "    border: 2px solid var(--fill-color);\n",
              "    border-color: transparent;\n",
              "    border-bottom-color: var(--fill-color);\n",
              "    animation:\n",
              "      spin 1s steps(1) infinite;\n",
              "  }\n",
              "\n",
              "  @keyframes spin {\n",
              "    0% {\n",
              "      border-color: transparent;\n",
              "      border-bottom-color: var(--fill-color);\n",
              "      border-left-color: var(--fill-color);\n",
              "    }\n",
              "    20% {\n",
              "      border-color: transparent;\n",
              "      border-left-color: var(--fill-color);\n",
              "      border-top-color: var(--fill-color);\n",
              "    }\n",
              "    30% {\n",
              "      border-color: transparent;\n",
              "      border-left-color: var(--fill-color);\n",
              "      border-top-color: var(--fill-color);\n",
              "      border-right-color: var(--fill-color);\n",
              "    }\n",
              "    40% {\n",
              "      border-color: transparent;\n",
              "      border-right-color: var(--fill-color);\n",
              "      border-top-color: var(--fill-color);\n",
              "    }\n",
              "    60% {\n",
              "      border-color: transparent;\n",
              "      border-right-color: var(--fill-color);\n",
              "    }\n",
              "    80% {\n",
              "      border-color: transparent;\n",
              "      border-right-color: var(--fill-color);\n",
              "      border-bottom-color: var(--fill-color);\n",
              "    }\n",
              "    90% {\n",
              "      border-color: transparent;\n",
              "      border-bottom-color: var(--fill-color);\n",
              "    }\n",
              "  }\n",
              "</style>\n",
              "\n",
              "  <script>\n",
              "    async function quickchart(key) {\n",
              "      const quickchartButtonEl =\n",
              "        document.querySelector('#' + key + ' button');\n",
              "      quickchartButtonEl.disabled = true;  // To prevent multiple clicks.\n",
              "      quickchartButtonEl.classList.add('colab-df-spinner');\n",
              "      try {\n",
              "        const charts = await google.colab.kernel.invokeFunction(\n",
              "            'suggestCharts', [key], {});\n",
              "      } catch (error) {\n",
              "        console.error('Error during call to suggestCharts:', error);\n",
              "      }\n",
              "      quickchartButtonEl.classList.remove('colab-df-spinner');\n",
              "      quickchartButtonEl.classList.add('colab-df-quickchart-complete');\n",
              "    }\n",
              "    (() => {\n",
              "      let quickchartButtonEl =\n",
              "        document.querySelector('#df-8a1be3b2-f2a6-4ac1-9c40-6744331123f4 button');\n",
              "      quickchartButtonEl.style.display =\n",
              "        google.colab.kernel.accessAllowed ? 'block' : 'none';\n",
              "    })();\n",
              "  </script>\n",
              "</div>\n",
              "\n",
              "  <div id=\"id_cb41b4a5-8262-4110-a83c-7f6ec57de3b4\">\n",
              "    <style>\n",
              "      .colab-df-generate {\n",
              "        background-color: #E8F0FE;\n",
              "        border: none;\n",
              "        border-radius: 50%;\n",
              "        cursor: pointer;\n",
              "        display: none;\n",
              "        fill: #1967D2;\n",
              "        height: 32px;\n",
              "        padding: 0 0 0 0;\n",
              "        width: 32px;\n",
              "      }\n",
              "\n",
              "      .colab-df-generate:hover {\n",
              "        background-color: #E2EBFA;\n",
              "        box-shadow: 0px 1px 2px rgba(60, 64, 67, 0.3), 0px 1px 3px 1px rgba(60, 64, 67, 0.15);\n",
              "        fill: #174EA6;\n",
              "      }\n",
              "\n",
              "      [theme=dark] .colab-df-generate {\n",
              "        background-color: #3B4455;\n",
              "        fill: #D2E3FC;\n",
              "      }\n",
              "\n",
              "      [theme=dark] .colab-df-generate:hover {\n",
              "        background-color: #434B5C;\n",
              "        box-shadow: 0px 1px 3px 1px rgba(0, 0, 0, 0.15);\n",
              "        filter: drop-shadow(0px 1px 2px rgba(0, 0, 0, 0.3));\n",
              "        fill: #FFFFFF;\n",
              "      }\n",
              "    </style>\n",
              "    <button class=\"colab-df-generate\" onclick=\"generateWithVariable('df')\"\n",
              "            title=\"Generate code using this dataframe.\"\n",
              "            style=\"display:none;\">\n",
              "\n",
              "  <svg xmlns=\"http://www.w3.org/2000/svg\" height=\"24px\"viewBox=\"0 0 24 24\"\n",
              "       width=\"24px\">\n",
              "    <path d=\"M7,19H8.4L18.45,9,17,7.55,7,17.6ZM5,21V16.75L18.45,3.32a2,2,0,0,1,2.83,0l1.4,1.43a1.91,1.91,0,0,1,.58,1.4,1.91,1.91,0,0,1-.58,1.4L9.25,21ZM18.45,9,17,7.55Zm-12,3A5.31,5.31,0,0,0,4.9,8.1,5.31,5.31,0,0,0,1,6.5,5.31,5.31,0,0,0,4.9,4.9,5.31,5.31,0,0,0,6.5,1,5.31,5.31,0,0,0,8.1,4.9,5.31,5.31,0,0,0,12,6.5,5.46,5.46,0,0,0,6.5,12Z\"/>\n",
              "  </svg>\n",
              "    </button>\n",
              "    <script>\n",
              "      (() => {\n",
              "      const buttonEl =\n",
              "        document.querySelector('#id_cb41b4a5-8262-4110-a83c-7f6ec57de3b4 button.colab-df-generate');\n",
              "      buttonEl.style.display =\n",
              "        google.colab.kernel.accessAllowed ? 'block' : 'none';\n",
              "\n",
              "      buttonEl.onclick = () => {\n",
              "        google.colab.notebook.generateWithVariable('df');\n",
              "      }\n",
              "      })();\n",
              "    </script>\n",
              "  </div>\n",
              "\n",
              "    </div>\n",
              "  </div>\n"
            ],
            "application/vnd.google.colaboratory.intrinsic+json": {
              "type": "dataframe",
              "variable_name": "df"
            }
          },
          "metadata": {},
          "execution_count": 75
        }
      ],
      "source": [
        "df = pd.DataFrame(data=X_array, columns=feature_names, index=tokens)\n",
        "(df)"
      ]
    },
    {
      "cell_type": "raw",
      "id": "f948c505-c3f3-4f5d-9c13-e99c8164a827",
      "metadata": {
        "id": "f948c505-c3f3-4f5d-9c13-e99c8164a827"
      },
      "source": [
        "9. TF-IDF"
      ]
    },
    {
      "cell_type": "code",
      "execution_count": 76,
      "id": "9bffc598-ed4a-44dc-af50-ddde96cff72b",
      "metadata": {
        "id": "9bffc598-ed4a-44dc-af50-ddde96cff72b"
      },
      "outputs": [],
      "source": [
        "from sklearn.feature_extraction.text import TfidfVectorizer"
      ]
    },
    {
      "cell_type": "code",
      "execution_count": 77,
      "id": "0d7debc2-5ace-4cc9-8c5b-d1b9c2b05d94",
      "metadata": {
        "colab": {
          "base_uri": "https://localhost:8080/",
          "height": 443
        },
        "id": "0d7debc2-5ace-4cc9-8c5b-d1b9c2b05d94",
        "outputId": "f0fd2e0e-e773-4550-e1ab-48993a868104"
      },
      "outputs": [
        {
          "output_type": "execute_result",
          "data": {
            "text/plain": [
              "     activities  air  all  also  and  are   as  being  biodiversity  but  ...  \\\n",
              "0           0.0  0.0  0.0   0.0  0.0  0.0  0.0    0.0       1.00000  0.0  ...   \n",
              "1           0.0  0.0  0.0   0.0  0.0  0.0  0.0    0.0       0.00000  0.0  ...   \n",
              "2           0.0  0.0  0.0   0.0  0.0  0.0  0.0    0.0       0.00000  0.0  ...   \n",
              "3           0.0  0.0  0.0   0.0  0.0  0.0  0.0    0.0       0.00000  0.0  ...   \n",
              "4           0.0  0.0  0.0   0.0  0.0  0.0  0.0    0.0       0.00000  0.0  ...   \n",
              "..          ...  ...  ...   ...  ...  ...  ...    ...           ...  ...  ...   \n",
              "110         0.0  0.0  0.0   0.0  0.0  0.0  0.0    0.0       0.00000  0.0  ...   \n",
              "111         0.0  0.0  0.0   0.0  0.0  0.0  0.0    0.0       0.00000  0.0  ...   \n",
              "112         0.0  0.0  0.0   0.0  0.0  0.0  0.0    0.0       0.00000  0.0  ...   \n",
              "113         0.0  0.0  0.0   0.0  0.0  0.0  0.0    0.0       0.00000  0.0  ...   \n",
              "114         0.0  0.0  0.0   0.0  0.0  0.0  0.0    0.0       0.32332  0.0  ...   \n",
              "\n",
              "     they  threat   to  variety  water  well      what  which  worldwildlife  \\\n",
              "0     0.0     0.0  0.0      0.0    0.0   0.0  0.000000    0.0       0.000000   \n",
              "1     0.0     0.0  0.0      0.0    0.0   0.0  0.000000    0.0       0.000000   \n",
              "2     0.0     0.0  1.0      0.0    0.0   0.0  0.000000    0.0       0.000000   \n",
              "3     0.0     0.0  0.0      0.0    0.0   0.0  0.000000    0.0       0.000000   \n",
              "4     0.0     0.0  0.0      1.0    0.0   0.0  0.000000    0.0       0.000000   \n",
              "..    ...     ...  ...      ...    ...   ...       ...    ...            ...   \n",
              "110   0.0     0.0  0.0      0.0    0.0   0.0  0.000000    0.0       0.000000   \n",
              "111   0.0     0.0  0.0      0.0    0.0   0.0  0.000000    0.0       0.000000   \n",
              "112   0.0     0.0  0.0      0.0    0.0   0.0  0.000000    0.0       0.000000   \n",
              "113   0.0     0.0  0.0      0.0    0.0   0.0  0.000000    0.0       0.000000   \n",
              "114   0.0     0.0  0.0      0.0    0.0   0.0  0.394808    0.0       0.394808   \n",
              "\n",
              "          www  \n",
              "0    0.000000  \n",
              "1    0.000000  \n",
              "2    0.000000  \n",
              "3    0.000000  \n",
              "4    0.000000  \n",
              "..        ...  \n",
              "110  0.000000  \n",
              "111  0.000000  \n",
              "112  0.000000  \n",
              "113  0.000000  \n",
              "114  0.394808  \n",
              "\n",
              "[115 rows x 80 columns]"
            ],
            "text/html": [
              "\n",
              "  <div id=\"df-f63d9259-3eb1-41fc-8969-23324b4245ff\" class=\"colab-df-container\">\n",
              "    <div>\n",
              "<style scoped>\n",
              "    .dataframe tbody tr th:only-of-type {\n",
              "        vertical-align: middle;\n",
              "    }\n",
              "\n",
              "    .dataframe tbody tr th {\n",
              "        vertical-align: top;\n",
              "    }\n",
              "\n",
              "    .dataframe thead th {\n",
              "        text-align: right;\n",
              "    }\n",
              "</style>\n",
              "<table border=\"1\" class=\"dataframe\">\n",
              "  <thead>\n",
              "    <tr style=\"text-align: right;\">\n",
              "      <th></th>\n",
              "      <th>activities</th>\n",
              "      <th>air</th>\n",
              "      <th>all</th>\n",
              "      <th>also</th>\n",
              "      <th>and</th>\n",
              "      <th>are</th>\n",
              "      <th>as</th>\n",
              "      <th>being</th>\n",
              "      <th>biodiversity</th>\n",
              "      <th>but</th>\n",
              "      <th>...</th>\n",
              "      <th>they</th>\n",
              "      <th>threat</th>\n",
              "      <th>to</th>\n",
              "      <th>variety</th>\n",
              "      <th>water</th>\n",
              "      <th>well</th>\n",
              "      <th>what</th>\n",
              "      <th>which</th>\n",
              "      <th>worldwildlife</th>\n",
              "      <th>www</th>\n",
              "    </tr>\n",
              "  </thead>\n",
              "  <tbody>\n",
              "    <tr>\n",
              "      <th>0</th>\n",
              "      <td>0.0</td>\n",
              "      <td>0.0</td>\n",
              "      <td>0.0</td>\n",
              "      <td>0.0</td>\n",
              "      <td>0.0</td>\n",
              "      <td>0.0</td>\n",
              "      <td>0.0</td>\n",
              "      <td>0.0</td>\n",
              "      <td>1.00000</td>\n",
              "      <td>0.0</td>\n",
              "      <td>...</td>\n",
              "      <td>0.0</td>\n",
              "      <td>0.0</td>\n",
              "      <td>0.0</td>\n",
              "      <td>0.0</td>\n",
              "      <td>0.0</td>\n",
              "      <td>0.0</td>\n",
              "      <td>0.000000</td>\n",
              "      <td>0.0</td>\n",
              "      <td>0.000000</td>\n",
              "      <td>0.000000</td>\n",
              "    </tr>\n",
              "    <tr>\n",
              "      <th>1</th>\n",
              "      <td>0.0</td>\n",
              "      <td>0.0</td>\n",
              "      <td>0.0</td>\n",
              "      <td>0.0</td>\n",
              "      <td>0.0</td>\n",
              "      <td>0.0</td>\n",
              "      <td>0.0</td>\n",
              "      <td>0.0</td>\n",
              "      <td>0.00000</td>\n",
              "      <td>0.0</td>\n",
              "      <td>...</td>\n",
              "      <td>0.0</td>\n",
              "      <td>0.0</td>\n",
              "      <td>0.0</td>\n",
              "      <td>0.0</td>\n",
              "      <td>0.0</td>\n",
              "      <td>0.0</td>\n",
              "      <td>0.000000</td>\n",
              "      <td>0.0</td>\n",
              "      <td>0.000000</td>\n",
              "      <td>0.000000</td>\n",
              "    </tr>\n",
              "    <tr>\n",
              "      <th>2</th>\n",
              "      <td>0.0</td>\n",
              "      <td>0.0</td>\n",
              "      <td>0.0</td>\n",
              "      <td>0.0</td>\n",
              "      <td>0.0</td>\n",
              "      <td>0.0</td>\n",
              "      <td>0.0</td>\n",
              "      <td>0.0</td>\n",
              "      <td>0.00000</td>\n",
              "      <td>0.0</td>\n",
              "      <td>...</td>\n",
              "      <td>0.0</td>\n",
              "      <td>0.0</td>\n",
              "      <td>1.0</td>\n",
              "      <td>0.0</td>\n",
              "      <td>0.0</td>\n",
              "      <td>0.0</td>\n",
              "      <td>0.000000</td>\n",
              "      <td>0.0</td>\n",
              "      <td>0.000000</td>\n",
              "      <td>0.000000</td>\n",
              "    </tr>\n",
              "    <tr>\n",
              "      <th>3</th>\n",
              "      <td>0.0</td>\n",
              "      <td>0.0</td>\n",
              "      <td>0.0</td>\n",
              "      <td>0.0</td>\n",
              "      <td>0.0</td>\n",
              "      <td>0.0</td>\n",
              "      <td>0.0</td>\n",
              "      <td>0.0</td>\n",
              "      <td>0.00000</td>\n",
              "      <td>0.0</td>\n",
              "      <td>...</td>\n",
              "      <td>0.0</td>\n",
              "      <td>0.0</td>\n",
              "      <td>0.0</td>\n",
              "      <td>0.0</td>\n",
              "      <td>0.0</td>\n",
              "      <td>0.0</td>\n",
              "      <td>0.000000</td>\n",
              "      <td>0.0</td>\n",
              "      <td>0.000000</td>\n",
              "      <td>0.000000</td>\n",
              "    </tr>\n",
              "    <tr>\n",
              "      <th>4</th>\n",
              "      <td>0.0</td>\n",
              "      <td>0.0</td>\n",
              "      <td>0.0</td>\n",
              "      <td>0.0</td>\n",
              "      <td>0.0</td>\n",
              "      <td>0.0</td>\n",
              "      <td>0.0</td>\n",
              "      <td>0.0</td>\n",
              "      <td>0.00000</td>\n",
              "      <td>0.0</td>\n",
              "      <td>...</td>\n",
              "      <td>0.0</td>\n",
              "      <td>0.0</td>\n",
              "      <td>0.0</td>\n",
              "      <td>1.0</td>\n",
              "      <td>0.0</td>\n",
              "      <td>0.0</td>\n",
              "      <td>0.000000</td>\n",
              "      <td>0.0</td>\n",
              "      <td>0.000000</td>\n",
              "      <td>0.000000</td>\n",
              "    </tr>\n",
              "    <tr>\n",
              "      <th>...</th>\n",
              "      <td>...</td>\n",
              "      <td>...</td>\n",
              "      <td>...</td>\n",
              "      <td>...</td>\n",
              "      <td>...</td>\n",
              "      <td>...</td>\n",
              "      <td>...</td>\n",
              "      <td>...</td>\n",
              "      <td>...</td>\n",
              "      <td>...</td>\n",
              "      <td>...</td>\n",
              "      <td>...</td>\n",
              "      <td>...</td>\n",
              "      <td>...</td>\n",
              "      <td>...</td>\n",
              "      <td>...</td>\n",
              "      <td>...</td>\n",
              "      <td>...</td>\n",
              "      <td>...</td>\n",
              "      <td>...</td>\n",
              "      <td>...</td>\n",
              "    </tr>\n",
              "    <tr>\n",
              "      <th>110</th>\n",
              "      <td>0.0</td>\n",
              "      <td>0.0</td>\n",
              "      <td>0.0</td>\n",
              "      <td>0.0</td>\n",
              "      <td>0.0</td>\n",
              "      <td>0.0</td>\n",
              "      <td>0.0</td>\n",
              "      <td>0.0</td>\n",
              "      <td>0.00000</td>\n",
              "      <td>0.0</td>\n",
              "      <td>...</td>\n",
              "      <td>0.0</td>\n",
              "      <td>0.0</td>\n",
              "      <td>0.0</td>\n",
              "      <td>0.0</td>\n",
              "      <td>0.0</td>\n",
              "      <td>0.0</td>\n",
              "      <td>0.000000</td>\n",
              "      <td>0.0</td>\n",
              "      <td>0.000000</td>\n",
              "      <td>0.000000</td>\n",
              "    </tr>\n",
              "    <tr>\n",
              "      <th>111</th>\n",
              "      <td>0.0</td>\n",
              "      <td>0.0</td>\n",
              "      <td>0.0</td>\n",
              "      <td>0.0</td>\n",
              "      <td>0.0</td>\n",
              "      <td>0.0</td>\n",
              "      <td>0.0</td>\n",
              "      <td>0.0</td>\n",
              "      <td>0.00000</td>\n",
              "      <td>0.0</td>\n",
              "      <td>...</td>\n",
              "      <td>0.0</td>\n",
              "      <td>0.0</td>\n",
              "      <td>0.0</td>\n",
              "      <td>0.0</td>\n",
              "      <td>0.0</td>\n",
              "      <td>0.0</td>\n",
              "      <td>0.000000</td>\n",
              "      <td>0.0</td>\n",
              "      <td>0.000000</td>\n",
              "      <td>0.000000</td>\n",
              "    </tr>\n",
              "    <tr>\n",
              "      <th>112</th>\n",
              "      <td>0.0</td>\n",
              "      <td>0.0</td>\n",
              "      <td>0.0</td>\n",
              "      <td>0.0</td>\n",
              "      <td>0.0</td>\n",
              "      <td>0.0</td>\n",
              "      <td>0.0</td>\n",
              "      <td>0.0</td>\n",
              "      <td>0.00000</td>\n",
              "      <td>0.0</td>\n",
              "      <td>...</td>\n",
              "      <td>0.0</td>\n",
              "      <td>0.0</td>\n",
              "      <td>0.0</td>\n",
              "      <td>0.0</td>\n",
              "      <td>0.0</td>\n",
              "      <td>0.0</td>\n",
              "      <td>0.000000</td>\n",
              "      <td>0.0</td>\n",
              "      <td>0.000000</td>\n",
              "      <td>0.000000</td>\n",
              "    </tr>\n",
              "    <tr>\n",
              "      <th>113</th>\n",
              "      <td>0.0</td>\n",
              "      <td>0.0</td>\n",
              "      <td>0.0</td>\n",
              "      <td>0.0</td>\n",
              "      <td>0.0</td>\n",
              "      <td>0.0</td>\n",
              "      <td>0.0</td>\n",
              "      <td>0.0</td>\n",
              "      <td>0.00000</td>\n",
              "      <td>0.0</td>\n",
              "      <td>...</td>\n",
              "      <td>0.0</td>\n",
              "      <td>0.0</td>\n",
              "      <td>0.0</td>\n",
              "      <td>0.0</td>\n",
              "      <td>0.0</td>\n",
              "      <td>0.0</td>\n",
              "      <td>0.000000</td>\n",
              "      <td>0.0</td>\n",
              "      <td>0.000000</td>\n",
              "      <td>0.000000</td>\n",
              "    </tr>\n",
              "    <tr>\n",
              "      <th>114</th>\n",
              "      <td>0.0</td>\n",
              "      <td>0.0</td>\n",
              "      <td>0.0</td>\n",
              "      <td>0.0</td>\n",
              "      <td>0.0</td>\n",
              "      <td>0.0</td>\n",
              "      <td>0.0</td>\n",
              "      <td>0.0</td>\n",
              "      <td>0.32332</td>\n",
              "      <td>0.0</td>\n",
              "      <td>...</td>\n",
              "      <td>0.0</td>\n",
              "      <td>0.0</td>\n",
              "      <td>0.0</td>\n",
              "      <td>0.0</td>\n",
              "      <td>0.0</td>\n",
              "      <td>0.0</td>\n",
              "      <td>0.394808</td>\n",
              "      <td>0.0</td>\n",
              "      <td>0.394808</td>\n",
              "      <td>0.394808</td>\n",
              "    </tr>\n",
              "  </tbody>\n",
              "</table>\n",
              "<p>115 rows × 80 columns</p>\n",
              "</div>\n",
              "    <div class=\"colab-df-buttons\">\n",
              "\n",
              "  <div class=\"colab-df-container\">\n",
              "    <button class=\"colab-df-convert\" onclick=\"convertToInteractive('df-f63d9259-3eb1-41fc-8969-23324b4245ff')\"\n",
              "            title=\"Convert this dataframe to an interactive table.\"\n",
              "            style=\"display:none;\">\n",
              "\n",
              "  <svg xmlns=\"http://www.w3.org/2000/svg\" height=\"24px\" viewBox=\"0 -960 960 960\">\n",
              "    <path d=\"M120-120v-720h720v720H120Zm60-500h600v-160H180v160Zm220 220h160v-160H400v160Zm0 220h160v-160H400v160ZM180-400h160v-160H180v160Zm440 0h160v-160H620v160ZM180-180h160v-160H180v160Zm440 0h160v-160H620v160Z\"/>\n",
              "  </svg>\n",
              "    </button>\n",
              "\n",
              "  <style>\n",
              "    .colab-df-container {\n",
              "      display:flex;\n",
              "      gap: 12px;\n",
              "    }\n",
              "\n",
              "    .colab-df-convert {\n",
              "      background-color: #E8F0FE;\n",
              "      border: none;\n",
              "      border-radius: 50%;\n",
              "      cursor: pointer;\n",
              "      display: none;\n",
              "      fill: #1967D2;\n",
              "      height: 32px;\n",
              "      padding: 0 0 0 0;\n",
              "      width: 32px;\n",
              "    }\n",
              "\n",
              "    .colab-df-convert:hover {\n",
              "      background-color: #E2EBFA;\n",
              "      box-shadow: 0px 1px 2px rgba(60, 64, 67, 0.3), 0px 1px 3px 1px rgba(60, 64, 67, 0.15);\n",
              "      fill: #174EA6;\n",
              "    }\n",
              "\n",
              "    .colab-df-buttons div {\n",
              "      margin-bottom: 4px;\n",
              "    }\n",
              "\n",
              "    [theme=dark] .colab-df-convert {\n",
              "      background-color: #3B4455;\n",
              "      fill: #D2E3FC;\n",
              "    }\n",
              "\n",
              "    [theme=dark] .colab-df-convert:hover {\n",
              "      background-color: #434B5C;\n",
              "      box-shadow: 0px 1px 3px 1px rgba(0, 0, 0, 0.15);\n",
              "      filter: drop-shadow(0px 1px 2px rgba(0, 0, 0, 0.3));\n",
              "      fill: #FFFFFF;\n",
              "    }\n",
              "  </style>\n",
              "\n",
              "    <script>\n",
              "      const buttonEl =\n",
              "        document.querySelector('#df-f63d9259-3eb1-41fc-8969-23324b4245ff button.colab-df-convert');\n",
              "      buttonEl.style.display =\n",
              "        google.colab.kernel.accessAllowed ? 'block' : 'none';\n",
              "\n",
              "      async function convertToInteractive(key) {\n",
              "        const element = document.querySelector('#df-f63d9259-3eb1-41fc-8969-23324b4245ff');\n",
              "        const dataTable =\n",
              "          await google.colab.kernel.invokeFunction('convertToInteractive',\n",
              "                                                    [key], {});\n",
              "        if (!dataTable) return;\n",
              "\n",
              "        const docLinkHtml = 'Like what you see? Visit the ' +\n",
              "          '<a target=\"_blank\" href=https://colab.research.google.com/notebooks/data_table.ipynb>data table notebook</a>'\n",
              "          + ' to learn more about interactive tables.';\n",
              "        element.innerHTML = '';\n",
              "        dataTable['output_type'] = 'display_data';\n",
              "        await google.colab.output.renderOutput(dataTable, element);\n",
              "        const docLink = document.createElement('div');\n",
              "        docLink.innerHTML = docLinkHtml;\n",
              "        element.appendChild(docLink);\n",
              "      }\n",
              "    </script>\n",
              "  </div>\n",
              "\n",
              "\n",
              "<div id=\"df-adfc2132-d190-4fc2-8977-774a04ff8688\">\n",
              "  <button class=\"colab-df-quickchart\" onclick=\"quickchart('df-adfc2132-d190-4fc2-8977-774a04ff8688')\"\n",
              "            title=\"Suggest charts\"\n",
              "            style=\"display:none;\">\n",
              "\n",
              "<svg xmlns=\"http://www.w3.org/2000/svg\" height=\"24px\"viewBox=\"0 0 24 24\"\n",
              "     width=\"24px\">\n",
              "    <g>\n",
              "        <path d=\"M19 3H5c-1.1 0-2 .9-2 2v14c0 1.1.9 2 2 2h14c1.1 0 2-.9 2-2V5c0-1.1-.9-2-2-2zM9 17H7v-7h2v7zm4 0h-2V7h2v10zm4 0h-2v-4h2v4z\"/>\n",
              "    </g>\n",
              "</svg>\n",
              "  </button>\n",
              "\n",
              "<style>\n",
              "  .colab-df-quickchart {\n",
              "      --bg-color: #E8F0FE;\n",
              "      --fill-color: #1967D2;\n",
              "      --hover-bg-color: #E2EBFA;\n",
              "      --hover-fill-color: #174EA6;\n",
              "      --disabled-fill-color: #AAA;\n",
              "      --disabled-bg-color: #DDD;\n",
              "  }\n",
              "\n",
              "  [theme=dark] .colab-df-quickchart {\n",
              "      --bg-color: #3B4455;\n",
              "      --fill-color: #D2E3FC;\n",
              "      --hover-bg-color: #434B5C;\n",
              "      --hover-fill-color: #FFFFFF;\n",
              "      --disabled-bg-color: #3B4455;\n",
              "      --disabled-fill-color: #666;\n",
              "  }\n",
              "\n",
              "  .colab-df-quickchart {\n",
              "    background-color: var(--bg-color);\n",
              "    border: none;\n",
              "    border-radius: 50%;\n",
              "    cursor: pointer;\n",
              "    display: none;\n",
              "    fill: var(--fill-color);\n",
              "    height: 32px;\n",
              "    padding: 0;\n",
              "    width: 32px;\n",
              "  }\n",
              "\n",
              "  .colab-df-quickchart:hover {\n",
              "    background-color: var(--hover-bg-color);\n",
              "    box-shadow: 0 1px 2px rgba(60, 64, 67, 0.3), 0 1px 3px 1px rgba(60, 64, 67, 0.15);\n",
              "    fill: var(--button-hover-fill-color);\n",
              "  }\n",
              "\n",
              "  .colab-df-quickchart-complete:disabled,\n",
              "  .colab-df-quickchart-complete:disabled:hover {\n",
              "    background-color: var(--disabled-bg-color);\n",
              "    fill: var(--disabled-fill-color);\n",
              "    box-shadow: none;\n",
              "  }\n",
              "\n",
              "  .colab-df-spinner {\n",
              "    border: 2px solid var(--fill-color);\n",
              "    border-color: transparent;\n",
              "    border-bottom-color: var(--fill-color);\n",
              "    animation:\n",
              "      spin 1s steps(1) infinite;\n",
              "  }\n",
              "\n",
              "  @keyframes spin {\n",
              "    0% {\n",
              "      border-color: transparent;\n",
              "      border-bottom-color: var(--fill-color);\n",
              "      border-left-color: var(--fill-color);\n",
              "    }\n",
              "    20% {\n",
              "      border-color: transparent;\n",
              "      border-left-color: var(--fill-color);\n",
              "      border-top-color: var(--fill-color);\n",
              "    }\n",
              "    30% {\n",
              "      border-color: transparent;\n",
              "      border-left-color: var(--fill-color);\n",
              "      border-top-color: var(--fill-color);\n",
              "      border-right-color: var(--fill-color);\n",
              "    }\n",
              "    40% {\n",
              "      border-color: transparent;\n",
              "      border-right-color: var(--fill-color);\n",
              "      border-top-color: var(--fill-color);\n",
              "    }\n",
              "    60% {\n",
              "      border-color: transparent;\n",
              "      border-right-color: var(--fill-color);\n",
              "    }\n",
              "    80% {\n",
              "      border-color: transparent;\n",
              "      border-right-color: var(--fill-color);\n",
              "      border-bottom-color: var(--fill-color);\n",
              "    }\n",
              "    90% {\n",
              "      border-color: transparent;\n",
              "      border-bottom-color: var(--fill-color);\n",
              "    }\n",
              "  }\n",
              "</style>\n",
              "\n",
              "  <script>\n",
              "    async function quickchart(key) {\n",
              "      const quickchartButtonEl =\n",
              "        document.querySelector('#' + key + ' button');\n",
              "      quickchartButtonEl.disabled = true;  // To prevent multiple clicks.\n",
              "      quickchartButtonEl.classList.add('colab-df-spinner');\n",
              "      try {\n",
              "        const charts = await google.colab.kernel.invokeFunction(\n",
              "            'suggestCharts', [key], {});\n",
              "      } catch (error) {\n",
              "        console.error('Error during call to suggestCharts:', error);\n",
              "      }\n",
              "      quickchartButtonEl.classList.remove('colab-df-spinner');\n",
              "      quickchartButtonEl.classList.add('colab-df-quickchart-complete');\n",
              "    }\n",
              "    (() => {\n",
              "      let quickchartButtonEl =\n",
              "        document.querySelector('#df-adfc2132-d190-4fc2-8977-774a04ff8688 button');\n",
              "      quickchartButtonEl.style.display =\n",
              "        google.colab.kernel.accessAllowed ? 'block' : 'none';\n",
              "    })();\n",
              "  </script>\n",
              "</div>\n",
              "\n",
              "  <div id=\"id_5503a943-96df-4ec3-968b-c4993351c8c5\">\n",
              "    <style>\n",
              "      .colab-df-generate {\n",
              "        background-color: #E8F0FE;\n",
              "        border: none;\n",
              "        border-radius: 50%;\n",
              "        cursor: pointer;\n",
              "        display: none;\n",
              "        fill: #1967D2;\n",
              "        height: 32px;\n",
              "        padding: 0 0 0 0;\n",
              "        width: 32px;\n",
              "      }\n",
              "\n",
              "      .colab-df-generate:hover {\n",
              "        background-color: #E2EBFA;\n",
              "        box-shadow: 0px 1px 2px rgba(60, 64, 67, 0.3), 0px 1px 3px 1px rgba(60, 64, 67, 0.15);\n",
              "        fill: #174EA6;\n",
              "      }\n",
              "\n",
              "      [theme=dark] .colab-df-generate {\n",
              "        background-color: #3B4455;\n",
              "        fill: #D2E3FC;\n",
              "      }\n",
              "\n",
              "      [theme=dark] .colab-df-generate:hover {\n",
              "        background-color: #434B5C;\n",
              "        box-shadow: 0px 1px 3px 1px rgba(0, 0, 0, 0.15);\n",
              "        filter: drop-shadow(0px 1px 2px rgba(0, 0, 0, 0.3));\n",
              "        fill: #FFFFFF;\n",
              "      }\n",
              "    </style>\n",
              "    <button class=\"colab-df-generate\" onclick=\"generateWithVariable('df')\"\n",
              "            title=\"Generate code using this dataframe.\"\n",
              "            style=\"display:none;\">\n",
              "\n",
              "  <svg xmlns=\"http://www.w3.org/2000/svg\" height=\"24px\"viewBox=\"0 0 24 24\"\n",
              "       width=\"24px\">\n",
              "    <path d=\"M7,19H8.4L18.45,9,17,7.55,7,17.6ZM5,21V16.75L18.45,3.32a2,2,0,0,1,2.83,0l1.4,1.43a1.91,1.91,0,0,1,.58,1.4,1.91,1.91,0,0,1-.58,1.4L9.25,21ZM18.45,9,17,7.55Zm-12,3A5.31,5.31,0,0,0,4.9,8.1,5.31,5.31,0,0,0,1,6.5,5.31,5.31,0,0,0,4.9,4.9,5.31,5.31,0,0,0,6.5,1,5.31,5.31,0,0,0,8.1,4.9,5.31,5.31,0,0,0,12,6.5,5.46,5.46,0,0,0,6.5,12Z\"/>\n",
              "  </svg>\n",
              "    </button>\n",
              "    <script>\n",
              "      (() => {\n",
              "      const buttonEl =\n",
              "        document.querySelector('#id_5503a943-96df-4ec3-968b-c4993351c8c5 button.colab-df-generate');\n",
              "      buttonEl.style.display =\n",
              "        google.colab.kernel.accessAllowed ? 'block' : 'none';\n",
              "\n",
              "      buttonEl.onclick = () => {\n",
              "        google.colab.notebook.generateWithVariable('df');\n",
              "      }\n",
              "      })();\n",
              "    </script>\n",
              "  </div>\n",
              "\n",
              "    </div>\n",
              "  </div>\n"
            ],
            "application/vnd.google.colaboratory.intrinsic+json": {
              "type": "dataframe",
              "variable_name": "df"
            }
          },
          "metadata": {},
          "execution_count": 77
        }
      ],
      "source": [
        "tfidf_vectorizer = TfidfVectorizer()\n",
        "tfidf_matrix = tfidf_vectorizer.fit_transform(tokens)\n",
        "terms = tfidf_vectorizer.get_feature_names_out()\n",
        "df = pd.DataFrame(tfidf_matrix.toarray(), columns=terms)\n",
        "(df)"
      ]
    },
    {
      "cell_type": "raw",
      "id": "cba19784-9067-4c36-9cc2-c48478300712",
      "metadata": {
        "id": "cba19784-9067-4c36-9cc2-c48478300712"
      },
      "source": [
        "10. Encodings"
      ]
    },
    {
      "cell_type": "code",
      "execution_count": 78,
      "id": "18dfd9f1-ecc1-4f8f-a3ea-9cb1b0d48b41",
      "metadata": {
        "id": "18dfd9f1-ecc1-4f8f-a3ea-9cb1b0d48b41"
      },
      "outputs": [],
      "source": [
        "from sklearn.preprocessing import OneHotEncoder"
      ]
    },
    {
      "cell_type": "code",
      "execution_count": 79,
      "id": "a9a457a3-a3ff-4fd8-a4b9-669bb0fe15e6",
      "metadata": {
        "id": "a9a457a3-a3ff-4fd8-a4b9-669bb0fe15e6"
      },
      "outputs": [],
      "source": [
        "import numpy as np"
      ]
    },
    {
      "cell_type": "code",
      "execution_count": 80,
      "id": "8538776a-5578-49bc-8e99-77d001f0ccb3",
      "metadata": {
        "colab": {
          "base_uri": "https://localhost:8080/"
        },
        "id": "8538776a-5578-49bc-8e99-77d001f0ccb3",
        "outputId": "7e8b8e62-6f83-43d5-bfc6-ea3b18f56ccf"
      },
      "outputs": [
        {
          "output_type": "stream",
          "name": "stderr",
          "text": [
            "[nltk_data] Downloading package punkt to /root/nltk_data...\n",
            "[nltk_data]   Package punkt is already up-to-date!\n"
          ]
        },
        {
          "output_type": "execute_result",
          "data": {
            "text/plain": [
              "True"
            ]
          },
          "metadata": {},
          "execution_count": 80
        }
      ],
      "source": [
        "nltk.download('punkt')"
      ]
    },
    {
      "cell_type": "code",
      "execution_count": 81,
      "id": "889f30a6-cb4a-4d51-8071-09f66da8c8e2",
      "metadata": {
        "id": "889f30a6-cb4a-4d51-8071-09f66da8c8e2"
      },
      "outputs": [],
      "source": [
        "tokenized_text = [nltk.word_tokenize(sentence.lower()) for sentence in text]"
      ]
    },
    {
      "cell_type": "code",
      "execution_count": 82,
      "id": "c8ab62bb-1077-4a56-a793-c7167c403a50",
      "metadata": {
        "id": "c8ab62bb-1077-4a56-a793-c7167c403a50"
      },
      "outputs": [],
      "source": [
        "all_words = [word for sentence in tokenized_text for word in sentence]"
      ]
    },
    {
      "cell_type": "code",
      "execution_count": 83,
      "id": "294b9910-211b-42c5-9d19-22be4935678b",
      "metadata": {
        "id": "294b9910-211b-42c5-9d19-22be4935678b"
      },
      "outputs": [],
      "source": [
        "vocab = sorted(set(all_words))"
      ]
    },
    {
      "cell_type": "code",
      "execution_count": 84,
      "id": "4c4cf625-276c-4b1c-9f8a-1dca3aa65e45",
      "metadata": {
        "colab": {
          "base_uri": "https://localhost:8080/"
        },
        "id": "4c4cf625-276c-4b1c-9f8a-1dca3aa65e45",
        "outputId": "5dbf5642-d0cd-454d-d4a8-c9d25a633bc0"
      },
      "outputs": [
        {
          "output_type": "stream",
          "name": "stdout",
          "text": [
            "Vocabulary: [',', '-', '.', '/', ':', 'a', 'b', 'c', 'd', 'e', 'f', 'g', 'h', 'i', 'l', 'm', 'n', 'o', 'p', 'r', 's', 't', 'u', 'v', 'w', 'x', 'y']\n"
          ]
        }
      ],
      "source": [
        "print(\"Vocabulary:\", vocab)"
      ]
    },
    {
      "cell_type": "code",
      "execution_count": 85,
      "id": "4b1f3432-b5b0-424e-bfbd-f10a63b88304",
      "metadata": {
        "id": "4b1f3432-b5b0-424e-bfbd-f10a63b88304"
      },
      "outputs": [],
      "source": [
        "word_array = np.array(all_words).reshape(-1, 1)"
      ]
    },
    {
      "cell_type": "code",
      "execution_count": 86,
      "id": "f421dae8-f7f1-4297-873c-497f10dbcbd4",
      "metadata": {
        "id": "f421dae8-f7f1-4297-873c-497f10dbcbd4"
      },
      "outputs": [],
      "source": [
        "one_hot_encoder = OneHotEncoder(sparse_output=False)\n",
        "one_hot_encoded = one_hot_encoder.fit_transform(word_array)"
      ]
    },
    {
      "cell_type": "code",
      "execution_count": 87,
      "id": "4c032e6e-d233-44b7-9be0-ba78bac73feb",
      "metadata": {
        "colab": {
          "base_uri": "https://localhost:8080/"
        },
        "id": "4c032e6e-d233-44b7-9be0-ba78bac73feb",
        "outputId": "0f22f326-c1f6-4f49-b577-f7145d70989e"
      },
      "outputs": [
        {
          "output_type": "stream",
          "name": "stdout",
          "text": [
            "One-hot encoded matrix:\n",
            " [[0. 0. 0. ... 0. 0. 0.]\n",
            " [0. 0. 0. ... 0. 0. 0.]\n",
            " [0. 0. 0. ... 0. 0. 0.]\n",
            " ...\n",
            " [0. 0. 0. ... 0. 0. 0.]\n",
            " [0. 0. 0. ... 0. 0. 0.]\n",
            " [0. 0. 0. ... 0. 0. 1.]]\n"
          ]
        }
      ],
      "source": [
        "print(\"One-hot encoded matrix:\\n\", one_hot_encoded)"
      ]
    },
    {
      "cell_type": "raw",
      "id": "d20b330c-e35f-4e54-9412-050133348d2a",
      "metadata": {
        "id": "d20b330c-e35f-4e54-9412-050133348d2a"
      },
      "source": []
    }
  ],
  "metadata": {
    "kernelspec": {
      "display_name": "Python 3 (ipykernel)",
      "language": "python",
      "name": "python3"
    },
    "language_info": {
      "codemirror_mode": {
        "name": "ipython",
        "version": 3
      },
      "file_extension": ".py",
      "mimetype": "text/x-python",
      "name": "python",
      "nbconvert_exporter": "python",
      "pygments_lexer": "ipython3",
      "version": "3.13.0"
    },
    "colab": {
      "provenance": [],
      "include_colab_link": true
    }
  },
  "nbformat": 4,
  "nbformat_minor": 5
}