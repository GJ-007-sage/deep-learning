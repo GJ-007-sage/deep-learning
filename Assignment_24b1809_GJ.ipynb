{
  "cells": [
    {
      "cell_type": "markdown",
      "metadata": {
        "id": "view-in-github",
        "colab_type": "text"
      },
      "source": [
        "<a href=\"https://colab.research.google.com/github/GJ-007-sage/deep-learning/blob/main/Assignment_24b1809_GJ.ipynb\" target=\"_parent\"><img src=\"https://colab.research.google.com/assets/colab-badge.svg\" alt=\"Open In Colab\"/></a>"
      ]
    },
    {
      "cell_type": "code",
      "execution_count": null,
      "id": "a5df6fe2-c049-4ac2-b0f9-a637c0383601",
      "metadata": {
        "id": "a5df6fe2-c049-4ac2-b0f9-a637c0383601"
      },
      "outputs": [],
      "source": [
        "import re"
      ]
    },
    {
      "cell_type": "code",
      "execution_count": null,
      "id": "08a7042b-ceb5-4112-a577-0e43b80e354c",
      "metadata": {
        "id": "08a7042b-ceb5-4112-a577-0e43b80e354c"
      },
      "outputs": [],
      "source": [
        "text = \"The universe is governed by physical laws that can be understood and described mathematically. These laws allow us to explain the phenomena we observe and predict future events. From the smallest particles to the vast expanse of galaxies, the universe operates under principles that reveal its fundamental nature.One of the most profound discoveries in modern physics is the concept of black holes. Black holes are regions of spacetime where gravity is so strong that nothing, not even light, can escape from them. They challenge our understanding of time and space, leading to questions about the very fabric of reality. Understanding black holes and their role in the cosmos could provide insights into the origins of the universe and the laws that govern it. Source: https://www.fisica.net/relatividade/stephen_hawking_a_brief_history_of_time.pdf\""
      ]
    },
    {
      "cell_type": "raw",
      "id": "4d435bf7-8d35-43fe-a29c-71efe48479f1",
      "metadata": {
        "id": "4d435bf7-8d35-43fe-a29c-71efe48479f1"
      },
      "source": [
        "1. LowerCasing"
      ]
    },
    {
      "cell_type": "code",
      "execution_count": null,
      "id": "84912a5b-9bc7-42f2-a2ac-26fbdff65b35",
      "metadata": {
        "id": "84912a5b-9bc7-42f2-a2ac-26fbdff65b35",
        "outputId": "ff086780-f68e-4063-fa21-a7d764153447",
        "colab": {
          "base_uri": "https://localhost:8080/",
          "height": 122
        }
      },
      "outputs": [
        {
          "output_type": "execute_result",
          "data": {
            "text/plain": [
              "'the universe is governed by physical laws that can be understood and described mathematically. these laws allow us to explain the phenomena we observe and predict future events. from the smallest particles to the vast expanse of galaxies, the universe operates under principles that reveal its fundamental nature.one of the most profound discoveries in modern physics is the concept of black holes. black holes are regions of spacetime where gravity is so strong that nothing, not even light, can escape from them. they challenge our understanding of time and space, leading to questions about the very fabric of reality. understanding black holes and their role in the cosmos could provide insights into the origins of the universe and the laws that govern it. source: https://www.fisica.net/relatividade/stephen_hawking_a_brief_history_of_time.pdf'"
            ],
            "application/vnd.google.colaboratory.intrinsic+json": {
              "type": "string"
            }
          },
          "metadata": {},
          "execution_count": 75
        }
      ],
      "source": [
        "lowercased_text = text.lower()\n",
        "\n",
        "lowercased_text"
      ]
    },
    {
      "cell_type": "raw",
      "id": "f14a26a8-6312-40a2-a13d-b79f900fa780",
      "metadata": {
        "id": "f14a26a8-6312-40a2-a13d-b79f900fa780"
      },
      "source": [
        "2. removing punctuation and special characters"
      ]
    },
    {
      "cell_type": "code",
      "execution_count": null,
      "id": "82a868bf-f310-49c9-9d56-62011ce06022",
      "metadata": {
        "id": "82a868bf-f310-49c9-9d56-62011ce06022",
        "outputId": "51de752c-ea69-4c74-97d1-1f043bb9477d",
        "colab": {
          "base_uri": "https://localhost:8080/",
          "height": 122
        }
      },
      "outputs": [
        {
          "output_type": "execute_result",
          "data": {
            "text/plain": [
              "'The universe is governed by physical laws that can be understood and described mathematically These laws allow us to explain the phenomena we observe and predict future events From the smallest particles to the vast expanse of galaxies the universe operates under principles that reveal its fundamental natureOne of the most profound discoveries in modern physics is the concept of black holes Black holes are regions of spacetime where gravity is so strong that nothing not even light can escape from them They challenge our understanding of time and space leading to questions about the very fabric of reality Understanding black holes and their role in the cosmos could provide insights into the origins of the universe and the laws that govern it Source httpswwwfisicanetrelatividadestephen_hawking_a_brief_history_of_timepdf'"
            ],
            "application/vnd.google.colaboratory.intrinsic+json": {
              "type": "string"
            }
          },
          "metadata": {},
          "execution_count": 76
        }
      ],
      "source": [
        "punctuation_pattern = r'[^\\w\\s]'\n",
        "text_cleaned = re.sub(punctuation_pattern, '', text)\n",
        "text_cleaned"
      ]
    },
    {
      "cell_type": "raw",
      "id": "8d0fdbb4-66d1-4943-a78e-ecd46a1fe855",
      "metadata": {
        "id": "8d0fdbb4-66d1-4943-a78e-ecd46a1fe855"
      },
      "source": [
        "3. Stop words removal & tokenisation"
      ]
    },
    {
      "cell_type": "code",
      "execution_count": null,
      "id": "0efe3261-cb50-48c3-b1a4-a67372c7bc22",
      "metadata": {
        "id": "0efe3261-cb50-48c3-b1a4-a67372c7bc22",
        "outputId": "7c3d0dbb-1648-468e-ee6c-91be044f6e62",
        "colab": {
          "base_uri": "https://localhost:8080/"
        }
      },
      "outputs": [
        {
          "output_type": "stream",
          "name": "stderr",
          "text": [
            "[nltk_data] Downloading package stopwords to /root/nltk_data...\n",
            "[nltk_data]   Package stopwords is already up-to-date!\n"
          ]
        }
      ],
      "source": [
        "import nltk\n",
        "nltk.download('stopwords')\n",
        "from nltk.corpus import stopwords"
      ]
    },
    {
      "cell_type": "code",
      "execution_count": null,
      "id": "c88e0c2e-9ec1-4f05-a6e6-f8fe4acc37ff",
      "metadata": {
        "id": "c88e0c2e-9ec1-4f05-a6e6-f8fe4acc37ff"
      },
      "outputs": [],
      "source": [
        "stop_words = set(stopwords.words('english'))"
      ]
    },
    {
      "cell_type": "code",
      "execution_count": null,
      "id": "5ffb4a8a-9e18-46cb-ab70-ca1d9c77e971",
      "metadata": {
        "id": "5ffb4a8a-9e18-46cb-ab70-ca1d9c77e971",
        "outputId": "b9d469e2-758f-4ba2-ae20-ab5d4e7312cd",
        "colab": {
          "base_uri": "https://localhost:8080/"
        }
      },
      "outputs": [
        {
          "output_type": "stream",
          "name": "stdout",
          "text": [
            "{'up', \"wasn't\", 'why', 'or', 'into', \"mustn't\", \"shouldn't\", 'y', 'me', 'very', 'own', 'd', \"you'd\", 'of', 'other', 'ain', 'themselves', 'hasn', 'she', 'mustn', 'between', 'he', 'more', 'herself', 'my', 'over', 'out', 'an', 'each', 'most', 'just', 'above', \"didn't\", 'nor', 'here', 'through', 'because', 'after', \"isn't\", 'on', \"won't\", 'ourselves', 'his', 'can', \"should've\", 'a', 'there', 'ours', 'isn', 'yourselves', 'who', 'such', 'am', 'had', 'any', \"weren't\", 'under', 'wouldn', 'whom', 'didn', 'some', 'yours', 'same', 'once', \"you'll\", \"shan't\", 'theirs', 'wasn', 'then', 'her', 'should', 'how', 'for', 'you', 'is', 'in', 'off', \"you've\", 'to', 'do', 'shan', 'now', 'your', 'doing', 'few', \"it's\", \"don't\", \"haven't\", 'they', 'was', 'what', 'll', 'when', 'himself', \"couldn't\", 'been', 'we', 'mightn', 't', 'them', 'couldn', \"hadn't\", 'if', 'while', 'below', 'will', 'its', 'o', 's', 'as', 'doesn', \"doesn't\", 'with', 'ma', 'be', 'm', \"she's\", 'are', 'both', 'no', \"mightn't\", 'further', 'did', 'this', 'these', 'at', 'itself', 'don', 'myself', \"aren't\", 'down', \"wouldn't\", 'hadn', 'our', 'against', \"hasn't\", 'that', 've', 'and', 'their', 'those', 'not', \"that'll\", 'won', 'having', 'shouldn', 'which', 'before', 'being', 'has', 'it', 'the', 'during', 'too', 'from', 'all', 'only', 're', 'him', 'haven', 'again', 'aren', \"needn't\", 'yourself', 'needn', 'by', 'weren', 'i', 'until', 'have', 'but', \"you're\", 'hers', 'where', 'so', 'about', 'were', 'does', 'than'}\n"
          ]
        }
      ],
      "source": [
        "print(stop_words)"
      ]
    },
    {
      "cell_type": "code",
      "execution_count": null,
      "id": "3fb99e5f-7dd4-4872-9b24-0fbaf88238ee",
      "metadata": {
        "id": "3fb99e5f-7dd4-4872-9b24-0fbaf88238ee",
        "outputId": "6472f9ea-d56c-44d7-a89f-e8921c2f43b3",
        "colab": {
          "base_uri": "https://localhost:8080/"
        }
      },
      "outputs": [
        {
          "output_type": "stream",
          "name": "stderr",
          "text": [
            "[nltk_data] Downloading package punkt to /root/nltk_data...\n",
            "[nltk_data]   Package punkt is already up-to-date!\n"
          ]
        }
      ],
      "source": [
        "import nltk\n",
        "nltk.download('punkt')\n",
        "from nltk.tokenize import word_tokenize,sent_tokenize"
      ]
    },
    {
      "cell_type": "code",
      "execution_count": null,
      "id": "cc2d07ef-f509-4134-9b75-159f2b9727e5",
      "metadata": {
        "id": "cc2d07ef-f509-4134-9b75-159f2b9727e5"
      },
      "outputs": [],
      "source": [
        "tokenize_words = word_tokenize(text)"
      ]
    },
    {
      "cell_type": "code",
      "execution_count": null,
      "id": "252b0a9a-da30-4bb0-a746-ed0a053ee34c",
      "metadata": {
        "id": "252b0a9a-da30-4bb0-a746-ed0a053ee34c",
        "outputId": "514e2bef-800d-4883-f2c5-6dbb8a516b42",
        "colab": {
          "base_uri": "https://localhost:8080/"
        }
      },
      "outputs": [
        {
          "output_type": "stream",
          "name": "stdout",
          "text": [
            "['The', 'universe', 'is', 'governed', 'by', 'physical', 'laws', 'that', 'can', 'be', 'understood', 'and', 'described', 'mathematically', '.', 'These', 'laws', 'allow', 'us', 'to', 'explain', 'the', 'phenomena', 'we', 'observe', 'and', 'predict', 'future', 'events', '.', 'From', 'the', 'smallest', 'particles', 'to', 'the', 'vast', 'expanse', 'of', 'galaxies', ',', 'the', 'universe', 'operates', 'under', 'principles', 'that', 'reveal', 'its', 'fundamental', 'nature.One', 'of', 'the', 'most', 'profound', 'discoveries', 'in', 'modern', 'physics', 'is', 'the', 'concept', 'of', 'black', 'holes', '.', 'Black', 'holes', 'are', 'regions', 'of', 'spacetime', 'where', 'gravity', 'is', 'so', 'strong', 'that', 'nothing', ',', 'not', 'even', 'light', ',', 'can', 'escape', 'from', 'them', '.', 'They', 'challenge', 'our', 'understanding', 'of', 'time', 'and', 'space', ',', 'leading', 'to', 'questions', 'about', 'the', 'very', 'fabric', 'of', 'reality', '.', 'Understanding', 'black', 'holes', 'and', 'their', 'role', 'in', 'the', 'cosmos', 'could', 'provide', 'insights', 'into', 'the', 'origins', 'of', 'the', 'universe', 'and', 'the', 'laws', 'that', 'govern', 'it', '.', 'Source', ':', 'https', ':', '//www.fisica.net/relatividade/stephen_hawking_a_brief_history_of_time.pdf']\n"
          ]
        }
      ],
      "source": [
        "print(tokenize_words)"
      ]
    },
    {
      "cell_type": "code",
      "execution_count": null,
      "id": "435dd4a5-e873-47ef-85c1-021beff7c4a8",
      "metadata": {
        "id": "435dd4a5-e873-47ef-85c1-021beff7c4a8",
        "outputId": "ddb7e6bc-6c7b-4fcd-9013-0979101f9b66",
        "colab": {
          "base_uri": "https://localhost:8080/"
        }
      },
      "outputs": [
        {
          "output_type": "execute_result",
          "data": {
            "text/plain": [
              "['The',\n",
              " 'universe',\n",
              " 'is',\n",
              " 'governed',\n",
              " 'by',\n",
              " 'physical',\n",
              " 'laws',\n",
              " 'that',\n",
              " 'can',\n",
              " 'be',\n",
              " 'understood',\n",
              " 'and',\n",
              " 'described',\n",
              " 'mathematically.',\n",
              " 'These',\n",
              " 'laws',\n",
              " 'allow',\n",
              " 'us',\n",
              " 'to',\n",
              " 'explain',\n",
              " 'the',\n",
              " 'phenomena',\n",
              " 'we',\n",
              " 'observe',\n",
              " 'and',\n",
              " 'predict',\n",
              " 'future',\n",
              " 'events.',\n",
              " 'From',\n",
              " 'the',\n",
              " 'smallest',\n",
              " 'particles',\n",
              " 'to',\n",
              " 'the',\n",
              " 'vast',\n",
              " 'expanse',\n",
              " 'of',\n",
              " 'galaxies,',\n",
              " 'the',\n",
              " 'universe',\n",
              " 'operates',\n",
              " 'under',\n",
              " 'principles',\n",
              " 'that',\n",
              " 'reveal',\n",
              " 'its',\n",
              " 'fundamental',\n",
              " 'nature.One',\n",
              " 'of',\n",
              " 'the',\n",
              " 'most',\n",
              " 'profound',\n",
              " 'discoveries',\n",
              " 'in',\n",
              " 'modern',\n",
              " 'physics',\n",
              " 'is',\n",
              " 'the',\n",
              " 'concept',\n",
              " 'of',\n",
              " 'black',\n",
              " 'holes.',\n",
              " 'Black',\n",
              " 'holes',\n",
              " 'are',\n",
              " 'regions',\n",
              " 'of',\n",
              " 'spacetime',\n",
              " 'where',\n",
              " 'gravity',\n",
              " 'is',\n",
              " 'so',\n",
              " 'strong',\n",
              " 'that',\n",
              " 'nothing,',\n",
              " 'not',\n",
              " 'even',\n",
              " 'light,',\n",
              " 'can',\n",
              " 'escape',\n",
              " 'from',\n",
              " 'them.',\n",
              " 'They',\n",
              " 'challenge',\n",
              " 'our',\n",
              " 'understanding',\n",
              " 'of',\n",
              " 'time',\n",
              " 'and',\n",
              " 'space,',\n",
              " 'leading',\n",
              " 'to',\n",
              " 'questions',\n",
              " 'about',\n",
              " 'the',\n",
              " 'very',\n",
              " 'fabric',\n",
              " 'of',\n",
              " 'reality.',\n",
              " 'Understanding',\n",
              " 'black',\n",
              " 'holes',\n",
              " 'and',\n",
              " 'their',\n",
              " 'role',\n",
              " 'in',\n",
              " 'the',\n",
              " 'cosmos',\n",
              " 'could',\n",
              " 'provide',\n",
              " 'insights',\n",
              " 'into',\n",
              " 'the',\n",
              " 'origins',\n",
              " 'of',\n",
              " 'the',\n",
              " 'universe',\n",
              " 'and',\n",
              " 'the',\n",
              " 'laws',\n",
              " 'that',\n",
              " 'govern',\n",
              " 'it.',\n",
              " 'Source:',\n",
              " 'https://www.fisica.net/relatividade/stephen_hawking_a_brief_history_of_time.pdf']"
            ]
          },
          "metadata": {},
          "execution_count": 83
        }
      ],
      "source": [
        "word_tokens = text.split()\n",
        "word_tokens"
      ]
    },
    {
      "cell_type": "code",
      "execution_count": null,
      "id": "b3045c2c-6b90-498f-be2a-fb1f50cef3c5",
      "metadata": {
        "id": "b3045c2c-6b90-498f-be2a-fb1f50cef3c5",
        "outputId": "67117438-f29d-443d-c05d-75ef38806fb8",
        "colab": {
          "base_uri": "https://localhost:8080/"
        }
      },
      "outputs": [
        {
          "output_type": "stream",
          "name": "stdout",
          "text": [
            "Filtered Text: ['The', 'universe', 'governed', 'physical', 'laws', 'understood', 'described', 'mathematically.', 'These', 'laws', 'allow', 'us', 'explain', 'phenomena', 'observe', 'predict', 'future', 'events.', 'From', 'smallest', 'particles', 'vast', 'expanse', 'galaxies,', 'universe', 'operates', 'principles', 'reveal', 'fundamental', 'nature.One', 'profound', 'discoveries', 'modern', 'physics', 'concept', 'black', 'holes.', 'Black', 'holes', 'regions', 'spacetime', 'gravity', 'strong', 'nothing,', 'even', 'light,', 'escape', 'them.', 'They', 'challenge', 'understanding', 'time', 'space,', 'leading', 'questions', 'fabric', 'reality.', 'Understanding', 'black', 'holes', 'role', 'cosmos', 'could', 'provide', 'insights', 'origins', 'universe', 'laws', 'govern', 'it.', 'Source:', 'https://www.fisica.net/relatividade/stephen_hawking_a_brief_history_of_time.pdf']\n"
          ]
        }
      ],
      "source": [
        "filtered_text = [word for word in word_tokens if word not in stop_words]\n",
        "print(\"Filtered Text:\", filtered_text)"
      ]
    },
    {
      "cell_type": "raw",
      "id": "28406499-08b5-43d3-8cb3-fd8080af68dd",
      "metadata": {
        "id": "28406499-08b5-43d3-8cb3-fd8080af68dd"
      },
      "source": [
        "4. Removal of URLs"
      ]
    },
    {
      "cell_type": "code",
      "execution_count": null,
      "id": "7f69f530-1ad0-4dd9-a255-7dccb799a1a4",
      "metadata": {
        "id": "7f69f530-1ad0-4dd9-a255-7dccb799a1a4"
      },
      "outputs": [],
      "source": [
        "def remove_urls(text):\n",
        "    url_pattern = re.compile(r'https?://\\S+|www\\.\\S+')\n",
        "    return url_pattern.sub(r'', text)"
      ]
    },
    {
      "cell_type": "code",
      "execution_count": null,
      "id": "cd2910b3-066e-4438-80d9-1c204dcd20b7",
      "metadata": {
        "id": "cd2910b3-066e-4438-80d9-1c204dcd20b7",
        "outputId": "aac943c8-35ef-455e-ad79-43944734b8f8",
        "colab": {
          "base_uri": "https://localhost:8080/",
          "height": 122
        }
      },
      "outputs": [
        {
          "output_type": "execute_result",
          "data": {
            "text/plain": [
              "'The universe is governed by physical laws that can be understood and described mathematically. These laws allow us to explain the phenomena we observe and predict future events. From the smallest particles to the vast expanse of galaxies, the universe operates under principles that reveal its fundamental nature.One of the most profound discoveries in modern physics is the concept of black holes. Black holes are regions of spacetime where gravity is so strong that nothing, not even light, can escape from them. They challenge our understanding of time and space, leading to questions about the very fabric of reality. Understanding black holes and their role in the cosmos could provide insights into the origins of the universe and the laws that govern it. Source: '"
            ],
            "application/vnd.google.colaboratory.intrinsic+json": {
              "type": "string"
            }
          },
          "metadata": {},
          "execution_count": 86
        }
      ],
      "source": [
        "remove_urls(text)"
      ]
    },
    {
      "cell_type": "raw",
      "id": "f3bf3c33-a26f-4aee-862f-fb0b4ad44a31",
      "metadata": {
        "id": "f3bf3c33-a26f-4aee-862f-fb0b4ad44a31"
      },
      "source": [
        "5. Removal of Html tags - no html tags in my corpus. So consider the following text2"
      ]
    },
    {
      "cell_type": "code",
      "execution_count": null,
      "id": "3696a8a2-beb0-4e3d-b158-1eec3cbaeffa",
      "metadata": {
        "id": "3696a8a2-beb0-4e3d-b158-1eec3cbaeffa"
      },
      "outputs": [],
      "source": [
        "text2 = \"\"\"\n",
        "<h1>Myself an enthusiastic coder</h1>\n",
        "<p>The bootcamp is fun</p>\n",
        "<a href=\"https://example.com\"></a>\n",
        "\"\"\""
      ]
    },
    {
      "cell_type": "code",
      "execution_count": null,
      "id": "7ac5b7f9-94b6-44e6-a649-c898b7bcddfd",
      "metadata": {
        "id": "7ac5b7f9-94b6-44e6-a649-c898b7bcddfd",
        "outputId": "ce2e0eeb-c93f-4029-cfed-8cb2bd18af73",
        "colab": {
          "base_uri": "https://localhost:8080/",
          "height": 35
        }
      },
      "outputs": [
        {
          "output_type": "execute_result",
          "data": {
            "text/plain": [
              "'\\nMyself an enthusiastic coder\\nThe bootcamp is fun\\n\\n'"
            ],
            "application/vnd.google.colaboratory.intrinsic+json": {
              "type": "string"
            }
          },
          "metadata": {},
          "execution_count": 88
        }
      ],
      "source": [
        "html_tags_pattern = r'<.*?>'\n",
        "text_without_html_tags = re.sub(html_tags_pattern, '', text2)\n",
        "text_without_html_tags"
      ]
    },
    {
      "cell_type": "raw",
      "id": "a5ef6db9-ba4a-4258-a193-2b25280b8424",
      "metadata": {
        "id": "a5ef6db9-ba4a-4258-a193-2b25280b8424"
      },
      "source": [
        "6. stemming"
      ]
    },
    {
      "cell_type": "code",
      "execution_count": null,
      "id": "7537bfa1-bcc4-47d9-be2c-87c9e143ab0d",
      "metadata": {
        "id": "7537bfa1-bcc4-47d9-be2c-87c9e143ab0d"
      },
      "outputs": [],
      "source": [
        "from nltk.stem.porter import PorterStemmer"
      ]
    },
    {
      "cell_type": "code",
      "execution_count": null,
      "id": "3bfca5d0-f966-4f92-94e4-ce500fd2a0ae",
      "metadata": {
        "id": "3bfca5d0-f966-4f92-94e4-ce500fd2a0ae"
      },
      "outputs": [],
      "source": [
        "stemmer = PorterStemmer()"
      ]
    },
    {
      "cell_type": "code",
      "execution_count": null,
      "id": "e02077fd-3ae2-4ffa-b7ae-cf64b54191b4",
      "metadata": {
        "id": "e02077fd-3ae2-4ffa-b7ae-cf64b54191b4"
      },
      "outputs": [],
      "source": [
        "def stem_words(text):\n",
        "    word_tokens = text.split()\n",
        "    stems = [stemmer.stem(word) for word in word_tokens]\n",
        "    return stems"
      ]
    },
    {
      "cell_type": "code",
      "execution_count": null,
      "id": "d2db44fd-eebb-4fcd-a033-a54bf4144aba",
      "metadata": {
        "id": "d2db44fd-eebb-4fcd-a033-a54bf4144aba",
        "outputId": "f4dbbb22-8344-4d83-ef06-3e0a44e69188",
        "colab": {
          "base_uri": "https://localhost:8080/"
        }
      },
      "outputs": [
        {
          "output_type": "execute_result",
          "data": {
            "text/plain": [
              "['the',\n",
              " 'univers',\n",
              " 'is',\n",
              " 'govern',\n",
              " 'by',\n",
              " 'physic',\n",
              " 'law',\n",
              " 'that',\n",
              " 'can',\n",
              " 'be',\n",
              " 'understood',\n",
              " 'and',\n",
              " 'describ',\n",
              " 'mathematically.',\n",
              " 'these',\n",
              " 'law',\n",
              " 'allow',\n",
              " 'us',\n",
              " 'to',\n",
              " 'explain',\n",
              " 'the',\n",
              " 'phenomena',\n",
              " 'we',\n",
              " 'observ',\n",
              " 'and',\n",
              " 'predict',\n",
              " 'futur',\n",
              " 'events.',\n",
              " 'from',\n",
              " 'the',\n",
              " 'smallest',\n",
              " 'particl',\n",
              " 'to',\n",
              " 'the',\n",
              " 'vast',\n",
              " 'expans',\n",
              " 'of',\n",
              " 'galaxies,',\n",
              " 'the',\n",
              " 'univers',\n",
              " 'oper',\n",
              " 'under',\n",
              " 'principl',\n",
              " 'that',\n",
              " 'reveal',\n",
              " 'it',\n",
              " 'fundament',\n",
              " 'nature.on',\n",
              " 'of',\n",
              " 'the',\n",
              " 'most',\n",
              " 'profound',\n",
              " 'discoveri',\n",
              " 'in',\n",
              " 'modern',\n",
              " 'physic',\n",
              " 'is',\n",
              " 'the',\n",
              " 'concept',\n",
              " 'of',\n",
              " 'black',\n",
              " 'holes.',\n",
              " 'black',\n",
              " 'hole',\n",
              " 'are',\n",
              " 'region',\n",
              " 'of',\n",
              " 'spacetim',\n",
              " 'where',\n",
              " 'graviti',\n",
              " 'is',\n",
              " 'so',\n",
              " 'strong',\n",
              " 'that',\n",
              " 'nothing,',\n",
              " 'not',\n",
              " 'even',\n",
              " 'light,',\n",
              " 'can',\n",
              " 'escap',\n",
              " 'from',\n",
              " 'them.',\n",
              " 'they',\n",
              " 'challeng',\n",
              " 'our',\n",
              " 'understand',\n",
              " 'of',\n",
              " 'time',\n",
              " 'and',\n",
              " 'space,',\n",
              " 'lead',\n",
              " 'to',\n",
              " 'question',\n",
              " 'about',\n",
              " 'the',\n",
              " 'veri',\n",
              " 'fabric',\n",
              " 'of',\n",
              " 'reality.',\n",
              " 'understand',\n",
              " 'black',\n",
              " 'hole',\n",
              " 'and',\n",
              " 'their',\n",
              " 'role',\n",
              " 'in',\n",
              " 'the',\n",
              " 'cosmo',\n",
              " 'could',\n",
              " 'provid',\n",
              " 'insight',\n",
              " 'into',\n",
              " 'the',\n",
              " 'origin',\n",
              " 'of',\n",
              " 'the',\n",
              " 'univers',\n",
              " 'and',\n",
              " 'the',\n",
              " 'law',\n",
              " 'that',\n",
              " 'govern',\n",
              " 'it.',\n",
              " 'source:',\n",
              " 'https://www.fisica.net/relatividade/stephen_hawking_a_brief_history_of_time.pdf']"
            ]
          },
          "metadata": {},
          "execution_count": 92
        }
      ],
      "source": [
        "stem_words(text)"
      ]
    },
    {
      "cell_type": "raw",
      "id": "d1220010-75a7-4c44-a3b9-16e8728fc075",
      "metadata": {
        "id": "d1220010-75a7-4c44-a3b9-16e8728fc075"
      },
      "source": [
        "7. Lemmatisation"
      ]
    },
    {
      "cell_type": "code",
      "execution_count": null,
      "id": "8f6873f7-2d80-4478-8887-04bbe3f0fc0c",
      "metadata": {
        "id": "8f6873f7-2d80-4478-8887-04bbe3f0fc0c",
        "outputId": "6fa5f537-1d4b-4cd4-d7d4-be8b211d6711",
        "colab": {
          "base_uri": "https://localhost:8080/"
        }
      },
      "outputs": [
        {
          "output_type": "stream",
          "name": "stderr",
          "text": [
            "[nltk_data] Downloading package wordnet to /root/nltk_data...\n",
            "[nltk_data]   Package wordnet is already up-to-date!\n"
          ]
        }
      ],
      "source": [
        "import nltk\n",
        "nltk.download('wordnet')\n",
        "from nltk.stem import WordNetLemmatizer"
      ]
    },
    {
      "cell_type": "code",
      "execution_count": null,
      "id": "89143ba6-325b-4ac0-9d71-a0fab6f9e16b",
      "metadata": {
        "id": "89143ba6-325b-4ac0-9d71-a0fab6f9e16b"
      },
      "outputs": [],
      "source": [
        "lemmatizer = WordNetLemmatizer()"
      ]
    },
    {
      "cell_type": "code",
      "execution_count": null,
      "id": "2cba5db3-1e41-4b4b-b729-67ca78db2874",
      "metadata": {
        "id": "2cba5db3-1e41-4b4b-b729-67ca78db2874"
      },
      "outputs": [],
      "source": [
        "def lemmatize_word(text):\n",
        "    word_tokens = text.split()\n",
        "    lemmas = [lemmatizer.lemmatize(word, pos ='v') for word in word_tokens]\n",
        "    return lemmas"
      ]
    },
    {
      "cell_type": "code",
      "execution_count": null,
      "id": "add774b8-7484-4760-b875-8eb713f8069e",
      "metadata": {
        "id": "add774b8-7484-4760-b875-8eb713f8069e",
        "outputId": "07e1ef74-00a7-4640-f9dd-796fe834a5ee",
        "colab": {
          "base_uri": "https://localhost:8080/"
        }
      },
      "outputs": [
        {
          "output_type": "execute_result",
          "data": {
            "text/plain": [
              "['The',\n",
              " 'universe',\n",
              " 'be',\n",
              " 'govern',\n",
              " 'by',\n",
              " 'physical',\n",
              " 'laws',\n",
              " 'that',\n",
              " 'can',\n",
              " 'be',\n",
              " 'understand',\n",
              " 'and',\n",
              " 'describe',\n",
              " 'mathematically.',\n",
              " 'These',\n",
              " 'laws',\n",
              " 'allow',\n",
              " 'us',\n",
              " 'to',\n",
              " 'explain',\n",
              " 'the',\n",
              " 'phenomena',\n",
              " 'we',\n",
              " 'observe',\n",
              " 'and',\n",
              " 'predict',\n",
              " 'future',\n",
              " 'events.',\n",
              " 'From',\n",
              " 'the',\n",
              " 'smallest',\n",
              " 'particles',\n",
              " 'to',\n",
              " 'the',\n",
              " 'vast',\n",
              " 'expanse',\n",
              " 'of',\n",
              " 'galaxies,',\n",
              " 'the',\n",
              " 'universe',\n",
              " 'operate',\n",
              " 'under',\n",
              " 'principles',\n",
              " 'that',\n",
              " 'reveal',\n",
              " 'its',\n",
              " 'fundamental',\n",
              " 'nature.One',\n",
              " 'of',\n",
              " 'the',\n",
              " 'most',\n",
              " 'profound',\n",
              " 'discoveries',\n",
              " 'in',\n",
              " 'modern',\n",
              " 'physics',\n",
              " 'be',\n",
              " 'the',\n",
              " 'concept',\n",
              " 'of',\n",
              " 'black',\n",
              " 'holes.',\n",
              " 'Black',\n",
              " 'hole',\n",
              " 'be',\n",
              " 'regions',\n",
              " 'of',\n",
              " 'spacetime',\n",
              " 'where',\n",
              " 'gravity',\n",
              " 'be',\n",
              " 'so',\n",
              " 'strong',\n",
              " 'that',\n",
              " 'nothing,',\n",
              " 'not',\n",
              " 'even',\n",
              " 'light,',\n",
              " 'can',\n",
              " 'escape',\n",
              " 'from',\n",
              " 'them.',\n",
              " 'They',\n",
              " 'challenge',\n",
              " 'our',\n",
              " 'understand',\n",
              " 'of',\n",
              " 'time',\n",
              " 'and',\n",
              " 'space,',\n",
              " 'lead',\n",
              " 'to',\n",
              " 'question',\n",
              " 'about',\n",
              " 'the',\n",
              " 'very',\n",
              " 'fabric',\n",
              " 'of',\n",
              " 'reality.',\n",
              " 'Understanding',\n",
              " 'black',\n",
              " 'hole',\n",
              " 'and',\n",
              " 'their',\n",
              " 'role',\n",
              " 'in',\n",
              " 'the',\n",
              " 'cosmos',\n",
              " 'could',\n",
              " 'provide',\n",
              " 'insights',\n",
              " 'into',\n",
              " 'the',\n",
              " 'origins',\n",
              " 'of',\n",
              " 'the',\n",
              " 'universe',\n",
              " 'and',\n",
              " 'the',\n",
              " 'laws',\n",
              " 'that',\n",
              " 'govern',\n",
              " 'it.',\n",
              " 'Source:',\n",
              " 'https://www.fisica.net/relatividade/stephen_hawking_a_brief_history_of_time.pdf']"
            ]
          },
          "metadata": {},
          "execution_count": 96
        }
      ],
      "source": [
        "lemmatize_word(text)"
      ]
    },
    {
      "cell_type": "raw",
      "id": "edb098de-89ed-43bb-8f98-b502267188e2",
      "metadata": {
        "id": "edb098de-89ed-43bb-8f98-b502267188e2"
      },
      "source": [
        "8. Tokenise"
      ]
    },
    {
      "cell_type": "code",
      "execution_count": null,
      "id": "51440236-c1b1-4773-9c8d-4eb67043d596",
      "metadata": {
        "id": "51440236-c1b1-4773-9c8d-4eb67043d596",
        "outputId": "efbe4efd-4ff2-4761-8da1-e5818d226bd1",
        "colab": {
          "base_uri": "https://localhost:8080/"
        }
      },
      "outputs": [
        {
          "output_type": "stream",
          "name": "stdout",
          "text": [
            "['The', 'universe', 'is', 'governed', 'by', 'physical', 'laws', 'that', 'can', 'be', 'understood', 'and', 'described', 'mathematically', '.', 'These', 'laws', 'allow', 'us', 'to', 'explain', 'the', 'phenomena', 'we', 'observe', 'and', 'predict', 'future', 'events', '.', 'From', 'the', 'smallest', 'particles', 'to', 'the', 'vast', 'expanse', 'of', 'galaxies', ',', 'the', 'universe', 'operates', 'under', 'principles', 'that', 'reveal', 'its', 'fundamental', 'nature.One', 'of', 'the', 'most', 'profound', 'discoveries', 'in', 'modern', 'physics', 'is', 'the', 'concept', 'of', 'black', 'holes', '.', 'Black', 'holes', 'are', 'regions', 'of', 'spacetime', 'where', 'gravity', 'is', 'so', 'strong', 'that', 'nothing', ',', 'not', 'even', 'light', ',', 'can', 'escape', 'from', 'them', '.', 'They', 'challenge', 'our', 'understanding', 'of', 'time', 'and', 'space', ',', 'leading', 'to', 'questions', 'about', 'the', 'very', 'fabric', 'of', 'reality', '.', 'Understanding', 'black', 'holes', 'and', 'their', 'role', 'in', 'the', 'cosmos', 'could', 'provide', 'insights', 'into', 'the', 'origins', 'of', 'the', 'universe', 'and', 'the', 'laws', 'that', 'govern', 'it', '.', 'Source', ':', 'https', ':', '//www.fisica.net/relatividade/stephen_hawking_a_brief_history_of_time.pdf']\n"
          ]
        }
      ],
      "source": [
        "tokens = word_tokenize(text)\n",
        "print(tokens)"
      ]
    },
    {
      "cell_type": "raw",
      "id": "c77dbe70-d92f-42ca-b387-2a2912566760",
      "metadata": {
        "id": "c77dbe70-d92f-42ca-b387-2a2912566760"
      },
      "source": [
        "9. Bag of Words"
      ]
    },
    {
      "cell_type": "code",
      "execution_count": null,
      "id": "9ea089c8-c09d-465a-bae6-ab674f0635e8",
      "metadata": {
        "id": "9ea089c8-c09d-465a-bae6-ab674f0635e8"
      },
      "outputs": [],
      "source": [
        "from sklearn.feature_extraction.text import CountVectorizer"
      ]
    },
    {
      "cell_type": "code",
      "execution_count": null,
      "id": "a9c13720-0849-4dc8-8fff-a6d5a1990ed0",
      "metadata": {
        "id": "a9c13720-0849-4dc8-8fff-a6d5a1990ed0"
      },
      "outputs": [],
      "source": [
        "vectorizer = CountVectorizer()\n",
        "X = vectorizer.fit_transform(tokens)\n",
        "feature_names = vectorizer.get_feature_names_out()\n",
        "X_array = X.toarray()"
      ]
    },
    {
      "cell_type": "code",
      "execution_count": null,
      "id": "d1558d42-9272-4cf7-9f8e-f7d52b6d2307",
      "metadata": {
        "id": "d1558d42-9272-4cf7-9f8e-f7d52b6d2307",
        "outputId": "7e7ea459-da34-493f-93c1-8f68a793be78",
        "colab": {
          "base_uri": "https://localhost:8080/"
        }
      },
      "outputs": [
        {
          "output_type": "stream",
          "name": "stdout",
          "text": [
            "Unique Word List: \n",
            " ['about' 'allow' 'and' 'are' 'be' 'black' 'by' 'can' 'challenge' 'concept'\n",
            " 'cosmos' 'could' 'described' 'discoveries' 'escape' 'even' 'events'\n",
            " 'expanse' 'explain' 'fabric' 'fisica' 'from' 'fundamental' 'future'\n",
            " 'galaxies' 'govern' 'governed' 'gravity' 'holes' 'https' 'in' 'insights'\n",
            " 'into' 'is' 'it' 'its' 'laws' 'leading' 'light' 'mathematically' 'modern'\n",
            " 'most' 'nature' 'net' 'not' 'nothing' 'observe' 'of' 'one' 'operates'\n",
            " 'origins' 'our' 'particles' 'pdf' 'phenomena' 'physical' 'physics'\n",
            " 'predict' 'principles' 'profound' 'provide' 'questions' 'reality'\n",
            " 'regions' 'relatividade' 'reveal' 'role' 'smallest' 'so' 'source' 'space'\n",
            " 'spacetime' 'stephen_hawking_a_brief_history_of_time' 'strong' 'that'\n",
            " 'the' 'their' 'them' 'these' 'they' 'time' 'to' 'under' 'understanding'\n",
            " 'understood' 'universe' 'us' 'vast' 'very' 'we' 'where' 'www']\n",
            "Bag of Words Matrix: \n",
            " [[0 0 0 ... 0 0 0]\n",
            " [0 0 0 ... 0 0 0]\n",
            " [0 0 0 ... 0 0 0]\n",
            " ...\n",
            " [0 0 0 ... 0 0 0]\n",
            " [0 0 0 ... 0 0 0]\n",
            " [0 0 0 ... 0 0 1]]\n"
          ]
        }
      ],
      "source": [
        "print(\"Unique Word List: \\n\", feature_names)\n",
        "print(\"Bag of Words Matrix: \\n\", X_array)"
      ]
    },
    {
      "cell_type": "code",
      "execution_count": null,
      "id": "0cb3468c-c43f-4b55-84a1-77a567faee06",
      "metadata": {
        "id": "0cb3468c-c43f-4b55-84a1-77a567faee06"
      },
      "outputs": [],
      "source": [
        "import pandas as pd"
      ]
    },
    {
      "cell_type": "code",
      "execution_count": null,
      "id": "d7ca62c4-8cad-4595-a027-1fb2ddf4ee77",
      "metadata": {
        "id": "d7ca62c4-8cad-4595-a027-1fb2ddf4ee77",
        "outputId": "0a8678e7-7537-4349-9252-0ffe31fd4aff",
        "colab": {
          "base_uri": "https://localhost:8080/",
          "height": 443
        }
      },
      "outputs": [
        {
          "output_type": "execute_result",
          "data": {
            "text/plain": [
              "                                                    about  allow  and  are  \\\n",
              "The                                                     0      0    0    0   \n",
              "universe                                                0      0    0    0   \n",
              "is                                                      0      0    0    0   \n",
              "governed                                                0      0    0    0   \n",
              "by                                                      0      0    0    0   \n",
              "...                                                   ...    ...  ...  ...   \n",
              "Source                                                  0      0    0    0   \n",
              ":                                                       0      0    0    0   \n",
              "https                                                   0      0    0    0   \n",
              ":                                                       0      0    0    0   \n",
              "//www.fisica.net/relatividade/stephen_hawking_a...      0      0    0    0   \n",
              "\n",
              "                                                    be  black  by  can  \\\n",
              "The                                                  0      0   0    0   \n",
              "universe                                             0      0   0    0   \n",
              "is                                                   0      0   0    0   \n",
              "governed                                             0      0   0    0   \n",
              "by                                                   0      0   1    0   \n",
              "...                                                 ..    ...  ..  ...   \n",
              "Source                                               0      0   0    0   \n",
              ":                                                    0      0   0    0   \n",
              "https                                                0      0   0    0   \n",
              ":                                                    0      0   0    0   \n",
              "//www.fisica.net/relatividade/stephen_hawking_a...   0      0   0    0   \n",
              "\n",
              "                                                    challenge  concept  ...  \\\n",
              "The                                                         0        0  ...   \n",
              "universe                                                    0        0  ...   \n",
              "is                                                          0        0  ...   \n",
              "governed                                                    0        0  ...   \n",
              "by                                                          0        0  ...   \n",
              "...                                                       ...      ...  ...   \n",
              "Source                                                      0        0  ...   \n",
              ":                                                           0        0  ...   \n",
              "https                                                       0        0  ...   \n",
              ":                                                           0        0  ...   \n",
              "//www.fisica.net/relatividade/stephen_hawking_a...          0        0  ...   \n",
              "\n",
              "                                                    under  understanding  \\\n",
              "The                                                     0              0   \n",
              "universe                                                0              0   \n",
              "is                                                      0              0   \n",
              "governed                                                0              0   \n",
              "by                                                      0              0   \n",
              "...                                                   ...            ...   \n",
              "Source                                                  0              0   \n",
              ":                                                       0              0   \n",
              "https                                                   0              0   \n",
              ":                                                       0              0   \n",
              "//www.fisica.net/relatividade/stephen_hawking_a...      0              0   \n",
              "\n",
              "                                                    understood  universe  us  \\\n",
              "The                                                          0         0   0   \n",
              "universe                                                     0         1   0   \n",
              "is                                                           0         0   0   \n",
              "governed                                                     0         0   0   \n",
              "by                                                           0         0   0   \n",
              "...                                                        ...       ...  ..   \n",
              "Source                                                       0         0   0   \n",
              ":                                                            0         0   0   \n",
              "https                                                        0         0   0   \n",
              ":                                                            0         0   0   \n",
              "//www.fisica.net/relatividade/stephen_hawking_a...           0         0   0   \n",
              "\n",
              "                                                    vast  very  we  where  www  \n",
              "The                                                    0     0   0      0    0  \n",
              "universe                                               0     0   0      0    0  \n",
              "is                                                     0     0   0      0    0  \n",
              "governed                                               0     0   0      0    0  \n",
              "by                                                     0     0   0      0    0  \n",
              "...                                                  ...   ...  ..    ...  ...  \n",
              "Source                                                 0     0   0      0    0  \n",
              ":                                                      0     0   0      0    0  \n",
              "https                                                  0     0   0      0    0  \n",
              ":                                                      0     0   0      0    0  \n",
              "//www.fisica.net/relatividade/stephen_hawking_a...     0     0   0      0    1  \n",
              "\n",
              "[138 rows x 92 columns]"
            ],
            "text/html": [
              "\n",
              "  <div id=\"df-eb3ee2b6-4432-4d82-b17b-a2e13e677d7e\" class=\"colab-df-container\">\n",
              "    <div>\n",
              "<style scoped>\n",
              "    .dataframe tbody tr th:only-of-type {\n",
              "        vertical-align: middle;\n",
              "    }\n",
              "\n",
              "    .dataframe tbody tr th {\n",
              "        vertical-align: top;\n",
              "    }\n",
              "\n",
              "    .dataframe thead th {\n",
              "        text-align: right;\n",
              "    }\n",
              "</style>\n",
              "<table border=\"1\" class=\"dataframe\">\n",
              "  <thead>\n",
              "    <tr style=\"text-align: right;\">\n",
              "      <th></th>\n",
              "      <th>about</th>\n",
              "      <th>allow</th>\n",
              "      <th>and</th>\n",
              "      <th>are</th>\n",
              "      <th>be</th>\n",
              "      <th>black</th>\n",
              "      <th>by</th>\n",
              "      <th>can</th>\n",
              "      <th>challenge</th>\n",
              "      <th>concept</th>\n",
              "      <th>...</th>\n",
              "      <th>under</th>\n",
              "      <th>understanding</th>\n",
              "      <th>understood</th>\n",
              "      <th>universe</th>\n",
              "      <th>us</th>\n",
              "      <th>vast</th>\n",
              "      <th>very</th>\n",
              "      <th>we</th>\n",
              "      <th>where</th>\n",
              "      <th>www</th>\n",
              "    </tr>\n",
              "  </thead>\n",
              "  <tbody>\n",
              "    <tr>\n",
              "      <th>The</th>\n",
              "      <td>0</td>\n",
              "      <td>0</td>\n",
              "      <td>0</td>\n",
              "      <td>0</td>\n",
              "      <td>0</td>\n",
              "      <td>0</td>\n",
              "      <td>0</td>\n",
              "      <td>0</td>\n",
              "      <td>0</td>\n",
              "      <td>0</td>\n",
              "      <td>...</td>\n",
              "      <td>0</td>\n",
              "      <td>0</td>\n",
              "      <td>0</td>\n",
              "      <td>0</td>\n",
              "      <td>0</td>\n",
              "      <td>0</td>\n",
              "      <td>0</td>\n",
              "      <td>0</td>\n",
              "      <td>0</td>\n",
              "      <td>0</td>\n",
              "    </tr>\n",
              "    <tr>\n",
              "      <th>universe</th>\n",
              "      <td>0</td>\n",
              "      <td>0</td>\n",
              "      <td>0</td>\n",
              "      <td>0</td>\n",
              "      <td>0</td>\n",
              "      <td>0</td>\n",
              "      <td>0</td>\n",
              "      <td>0</td>\n",
              "      <td>0</td>\n",
              "      <td>0</td>\n",
              "      <td>...</td>\n",
              "      <td>0</td>\n",
              "      <td>0</td>\n",
              "      <td>0</td>\n",
              "      <td>1</td>\n",
              "      <td>0</td>\n",
              "      <td>0</td>\n",
              "      <td>0</td>\n",
              "      <td>0</td>\n",
              "      <td>0</td>\n",
              "      <td>0</td>\n",
              "    </tr>\n",
              "    <tr>\n",
              "      <th>is</th>\n",
              "      <td>0</td>\n",
              "      <td>0</td>\n",
              "      <td>0</td>\n",
              "      <td>0</td>\n",
              "      <td>0</td>\n",
              "      <td>0</td>\n",
              "      <td>0</td>\n",
              "      <td>0</td>\n",
              "      <td>0</td>\n",
              "      <td>0</td>\n",
              "      <td>...</td>\n",
              "      <td>0</td>\n",
              "      <td>0</td>\n",
              "      <td>0</td>\n",
              "      <td>0</td>\n",
              "      <td>0</td>\n",
              "      <td>0</td>\n",
              "      <td>0</td>\n",
              "      <td>0</td>\n",
              "      <td>0</td>\n",
              "      <td>0</td>\n",
              "    </tr>\n",
              "    <tr>\n",
              "      <th>governed</th>\n",
              "      <td>0</td>\n",
              "      <td>0</td>\n",
              "      <td>0</td>\n",
              "      <td>0</td>\n",
              "      <td>0</td>\n",
              "      <td>0</td>\n",
              "      <td>0</td>\n",
              "      <td>0</td>\n",
              "      <td>0</td>\n",
              "      <td>0</td>\n",
              "      <td>...</td>\n",
              "      <td>0</td>\n",
              "      <td>0</td>\n",
              "      <td>0</td>\n",
              "      <td>0</td>\n",
              "      <td>0</td>\n",
              "      <td>0</td>\n",
              "      <td>0</td>\n",
              "      <td>0</td>\n",
              "      <td>0</td>\n",
              "      <td>0</td>\n",
              "    </tr>\n",
              "    <tr>\n",
              "      <th>by</th>\n",
              "      <td>0</td>\n",
              "      <td>0</td>\n",
              "      <td>0</td>\n",
              "      <td>0</td>\n",
              "      <td>0</td>\n",
              "      <td>0</td>\n",
              "      <td>1</td>\n",
              "      <td>0</td>\n",
              "      <td>0</td>\n",
              "      <td>0</td>\n",
              "      <td>...</td>\n",
              "      <td>0</td>\n",
              "      <td>0</td>\n",
              "      <td>0</td>\n",
              "      <td>0</td>\n",
              "      <td>0</td>\n",
              "      <td>0</td>\n",
              "      <td>0</td>\n",
              "      <td>0</td>\n",
              "      <td>0</td>\n",
              "      <td>0</td>\n",
              "    </tr>\n",
              "    <tr>\n",
              "      <th>...</th>\n",
              "      <td>...</td>\n",
              "      <td>...</td>\n",
              "      <td>...</td>\n",
              "      <td>...</td>\n",
              "      <td>...</td>\n",
              "      <td>...</td>\n",
              "      <td>...</td>\n",
              "      <td>...</td>\n",
              "      <td>...</td>\n",
              "      <td>...</td>\n",
              "      <td>...</td>\n",
              "      <td>...</td>\n",
              "      <td>...</td>\n",
              "      <td>...</td>\n",
              "      <td>...</td>\n",
              "      <td>...</td>\n",
              "      <td>...</td>\n",
              "      <td>...</td>\n",
              "      <td>...</td>\n",
              "      <td>...</td>\n",
              "      <td>...</td>\n",
              "    </tr>\n",
              "    <tr>\n",
              "      <th>Source</th>\n",
              "      <td>0</td>\n",
              "      <td>0</td>\n",
              "      <td>0</td>\n",
              "      <td>0</td>\n",
              "      <td>0</td>\n",
              "      <td>0</td>\n",
              "      <td>0</td>\n",
              "      <td>0</td>\n",
              "      <td>0</td>\n",
              "      <td>0</td>\n",
              "      <td>...</td>\n",
              "      <td>0</td>\n",
              "      <td>0</td>\n",
              "      <td>0</td>\n",
              "      <td>0</td>\n",
              "      <td>0</td>\n",
              "      <td>0</td>\n",
              "      <td>0</td>\n",
              "      <td>0</td>\n",
              "      <td>0</td>\n",
              "      <td>0</td>\n",
              "    </tr>\n",
              "    <tr>\n",
              "      <th>:</th>\n",
              "      <td>0</td>\n",
              "      <td>0</td>\n",
              "      <td>0</td>\n",
              "      <td>0</td>\n",
              "      <td>0</td>\n",
              "      <td>0</td>\n",
              "      <td>0</td>\n",
              "      <td>0</td>\n",
              "      <td>0</td>\n",
              "      <td>0</td>\n",
              "      <td>...</td>\n",
              "      <td>0</td>\n",
              "      <td>0</td>\n",
              "      <td>0</td>\n",
              "      <td>0</td>\n",
              "      <td>0</td>\n",
              "      <td>0</td>\n",
              "      <td>0</td>\n",
              "      <td>0</td>\n",
              "      <td>0</td>\n",
              "      <td>0</td>\n",
              "    </tr>\n",
              "    <tr>\n",
              "      <th>https</th>\n",
              "      <td>0</td>\n",
              "      <td>0</td>\n",
              "      <td>0</td>\n",
              "      <td>0</td>\n",
              "      <td>0</td>\n",
              "      <td>0</td>\n",
              "      <td>0</td>\n",
              "      <td>0</td>\n",
              "      <td>0</td>\n",
              "      <td>0</td>\n",
              "      <td>...</td>\n",
              "      <td>0</td>\n",
              "      <td>0</td>\n",
              "      <td>0</td>\n",
              "      <td>0</td>\n",
              "      <td>0</td>\n",
              "      <td>0</td>\n",
              "      <td>0</td>\n",
              "      <td>0</td>\n",
              "      <td>0</td>\n",
              "      <td>0</td>\n",
              "    </tr>\n",
              "    <tr>\n",
              "      <th>:</th>\n",
              "      <td>0</td>\n",
              "      <td>0</td>\n",
              "      <td>0</td>\n",
              "      <td>0</td>\n",
              "      <td>0</td>\n",
              "      <td>0</td>\n",
              "      <td>0</td>\n",
              "      <td>0</td>\n",
              "      <td>0</td>\n",
              "      <td>0</td>\n",
              "      <td>...</td>\n",
              "      <td>0</td>\n",
              "      <td>0</td>\n",
              "      <td>0</td>\n",
              "      <td>0</td>\n",
              "      <td>0</td>\n",
              "      <td>0</td>\n",
              "      <td>0</td>\n",
              "      <td>0</td>\n",
              "      <td>0</td>\n",
              "      <td>0</td>\n",
              "    </tr>\n",
              "    <tr>\n",
              "      <th>//www.fisica.net/relatividade/stephen_hawking_a_brief_history_of_time.pdf</th>\n",
              "      <td>0</td>\n",
              "      <td>0</td>\n",
              "      <td>0</td>\n",
              "      <td>0</td>\n",
              "      <td>0</td>\n",
              "      <td>0</td>\n",
              "      <td>0</td>\n",
              "      <td>0</td>\n",
              "      <td>0</td>\n",
              "      <td>0</td>\n",
              "      <td>...</td>\n",
              "      <td>0</td>\n",
              "      <td>0</td>\n",
              "      <td>0</td>\n",
              "      <td>0</td>\n",
              "      <td>0</td>\n",
              "      <td>0</td>\n",
              "      <td>0</td>\n",
              "      <td>0</td>\n",
              "      <td>0</td>\n",
              "      <td>1</td>\n",
              "    </tr>\n",
              "  </tbody>\n",
              "</table>\n",
              "<p>138 rows × 92 columns</p>\n",
              "</div>\n",
              "    <div class=\"colab-df-buttons\">\n",
              "\n",
              "  <div class=\"colab-df-container\">\n",
              "    <button class=\"colab-df-convert\" onclick=\"convertToInteractive('df-eb3ee2b6-4432-4d82-b17b-a2e13e677d7e')\"\n",
              "            title=\"Convert this dataframe to an interactive table.\"\n",
              "            style=\"display:none;\">\n",
              "\n",
              "  <svg xmlns=\"http://www.w3.org/2000/svg\" height=\"24px\" viewBox=\"0 -960 960 960\">\n",
              "    <path d=\"M120-120v-720h720v720H120Zm60-500h600v-160H180v160Zm220 220h160v-160H400v160Zm0 220h160v-160H400v160ZM180-400h160v-160H180v160Zm440 0h160v-160H620v160ZM180-180h160v-160H180v160Zm440 0h160v-160H620v160Z\"/>\n",
              "  </svg>\n",
              "    </button>\n",
              "\n",
              "  <style>\n",
              "    .colab-df-container {\n",
              "      display:flex;\n",
              "      gap: 12px;\n",
              "    }\n",
              "\n",
              "    .colab-df-convert {\n",
              "      background-color: #E8F0FE;\n",
              "      border: none;\n",
              "      border-radius: 50%;\n",
              "      cursor: pointer;\n",
              "      display: none;\n",
              "      fill: #1967D2;\n",
              "      height: 32px;\n",
              "      padding: 0 0 0 0;\n",
              "      width: 32px;\n",
              "    }\n",
              "\n",
              "    .colab-df-convert:hover {\n",
              "      background-color: #E2EBFA;\n",
              "      box-shadow: 0px 1px 2px rgba(60, 64, 67, 0.3), 0px 1px 3px 1px rgba(60, 64, 67, 0.15);\n",
              "      fill: #174EA6;\n",
              "    }\n",
              "\n",
              "    .colab-df-buttons div {\n",
              "      margin-bottom: 4px;\n",
              "    }\n",
              "\n",
              "    [theme=dark] .colab-df-convert {\n",
              "      background-color: #3B4455;\n",
              "      fill: #D2E3FC;\n",
              "    }\n",
              "\n",
              "    [theme=dark] .colab-df-convert:hover {\n",
              "      background-color: #434B5C;\n",
              "      box-shadow: 0px 1px 3px 1px rgba(0, 0, 0, 0.15);\n",
              "      filter: drop-shadow(0px 1px 2px rgba(0, 0, 0, 0.3));\n",
              "      fill: #FFFFFF;\n",
              "    }\n",
              "  </style>\n",
              "\n",
              "    <script>\n",
              "      const buttonEl =\n",
              "        document.querySelector('#df-eb3ee2b6-4432-4d82-b17b-a2e13e677d7e button.colab-df-convert');\n",
              "      buttonEl.style.display =\n",
              "        google.colab.kernel.accessAllowed ? 'block' : 'none';\n",
              "\n",
              "      async function convertToInteractive(key) {\n",
              "        const element = document.querySelector('#df-eb3ee2b6-4432-4d82-b17b-a2e13e677d7e');\n",
              "        const dataTable =\n",
              "          await google.colab.kernel.invokeFunction('convertToInteractive',\n",
              "                                                    [key], {});\n",
              "        if (!dataTable) return;\n",
              "\n",
              "        const docLinkHtml = 'Like what you see? Visit the ' +\n",
              "          '<a target=\"_blank\" href=https://colab.research.google.com/notebooks/data_table.ipynb>data table notebook</a>'\n",
              "          + ' to learn more about interactive tables.';\n",
              "        element.innerHTML = '';\n",
              "        dataTable['output_type'] = 'display_data';\n",
              "        await google.colab.output.renderOutput(dataTable, element);\n",
              "        const docLink = document.createElement('div');\n",
              "        docLink.innerHTML = docLinkHtml;\n",
              "        element.appendChild(docLink);\n",
              "      }\n",
              "    </script>\n",
              "  </div>\n",
              "\n",
              "\n",
              "<div id=\"df-1e48922e-7725-46ee-bbc4-9bea6b16fe6d\">\n",
              "  <button class=\"colab-df-quickchart\" onclick=\"quickchart('df-1e48922e-7725-46ee-bbc4-9bea6b16fe6d')\"\n",
              "            title=\"Suggest charts\"\n",
              "            style=\"display:none;\">\n",
              "\n",
              "<svg xmlns=\"http://www.w3.org/2000/svg\" height=\"24px\"viewBox=\"0 0 24 24\"\n",
              "     width=\"24px\">\n",
              "    <g>\n",
              "        <path d=\"M19 3H5c-1.1 0-2 .9-2 2v14c0 1.1.9 2 2 2h14c1.1 0 2-.9 2-2V5c0-1.1-.9-2-2-2zM9 17H7v-7h2v7zm4 0h-2V7h2v10zm4 0h-2v-4h2v4z\"/>\n",
              "    </g>\n",
              "</svg>\n",
              "  </button>\n",
              "\n",
              "<style>\n",
              "  .colab-df-quickchart {\n",
              "      --bg-color: #E8F0FE;\n",
              "      --fill-color: #1967D2;\n",
              "      --hover-bg-color: #E2EBFA;\n",
              "      --hover-fill-color: #174EA6;\n",
              "      --disabled-fill-color: #AAA;\n",
              "      --disabled-bg-color: #DDD;\n",
              "  }\n",
              "\n",
              "  [theme=dark] .colab-df-quickchart {\n",
              "      --bg-color: #3B4455;\n",
              "      --fill-color: #D2E3FC;\n",
              "      --hover-bg-color: #434B5C;\n",
              "      --hover-fill-color: #FFFFFF;\n",
              "      --disabled-bg-color: #3B4455;\n",
              "      --disabled-fill-color: #666;\n",
              "  }\n",
              "\n",
              "  .colab-df-quickchart {\n",
              "    background-color: var(--bg-color);\n",
              "    border: none;\n",
              "    border-radius: 50%;\n",
              "    cursor: pointer;\n",
              "    display: none;\n",
              "    fill: var(--fill-color);\n",
              "    height: 32px;\n",
              "    padding: 0;\n",
              "    width: 32px;\n",
              "  }\n",
              "\n",
              "  .colab-df-quickchart:hover {\n",
              "    background-color: var(--hover-bg-color);\n",
              "    box-shadow: 0 1px 2px rgba(60, 64, 67, 0.3), 0 1px 3px 1px rgba(60, 64, 67, 0.15);\n",
              "    fill: var(--button-hover-fill-color);\n",
              "  }\n",
              "\n",
              "  .colab-df-quickchart-complete:disabled,\n",
              "  .colab-df-quickchart-complete:disabled:hover {\n",
              "    background-color: var(--disabled-bg-color);\n",
              "    fill: var(--disabled-fill-color);\n",
              "    box-shadow: none;\n",
              "  }\n",
              "\n",
              "  .colab-df-spinner {\n",
              "    border: 2px solid var(--fill-color);\n",
              "    border-color: transparent;\n",
              "    border-bottom-color: var(--fill-color);\n",
              "    animation:\n",
              "      spin 1s steps(1) infinite;\n",
              "  }\n",
              "\n",
              "  @keyframes spin {\n",
              "    0% {\n",
              "      border-color: transparent;\n",
              "      border-bottom-color: var(--fill-color);\n",
              "      border-left-color: var(--fill-color);\n",
              "    }\n",
              "    20% {\n",
              "      border-color: transparent;\n",
              "      border-left-color: var(--fill-color);\n",
              "      border-top-color: var(--fill-color);\n",
              "    }\n",
              "    30% {\n",
              "      border-color: transparent;\n",
              "      border-left-color: var(--fill-color);\n",
              "      border-top-color: var(--fill-color);\n",
              "      border-right-color: var(--fill-color);\n",
              "    }\n",
              "    40% {\n",
              "      border-color: transparent;\n",
              "      border-right-color: var(--fill-color);\n",
              "      border-top-color: var(--fill-color);\n",
              "    }\n",
              "    60% {\n",
              "      border-color: transparent;\n",
              "      border-right-color: var(--fill-color);\n",
              "    }\n",
              "    80% {\n",
              "      border-color: transparent;\n",
              "      border-right-color: var(--fill-color);\n",
              "      border-bottom-color: var(--fill-color);\n",
              "    }\n",
              "    90% {\n",
              "      border-color: transparent;\n",
              "      border-bottom-color: var(--fill-color);\n",
              "    }\n",
              "  }\n",
              "</style>\n",
              "\n",
              "  <script>\n",
              "    async function quickchart(key) {\n",
              "      const quickchartButtonEl =\n",
              "        document.querySelector('#' + key + ' button');\n",
              "      quickchartButtonEl.disabled = true;  // To prevent multiple clicks.\n",
              "      quickchartButtonEl.classList.add('colab-df-spinner');\n",
              "      try {\n",
              "        const charts = await google.colab.kernel.invokeFunction(\n",
              "            'suggestCharts', [key], {});\n",
              "      } catch (error) {\n",
              "        console.error('Error during call to suggestCharts:', error);\n",
              "      }\n",
              "      quickchartButtonEl.classList.remove('colab-df-spinner');\n",
              "      quickchartButtonEl.classList.add('colab-df-quickchart-complete');\n",
              "    }\n",
              "    (() => {\n",
              "      let quickchartButtonEl =\n",
              "        document.querySelector('#df-1e48922e-7725-46ee-bbc4-9bea6b16fe6d button');\n",
              "      quickchartButtonEl.style.display =\n",
              "        google.colab.kernel.accessAllowed ? 'block' : 'none';\n",
              "    })();\n",
              "  </script>\n",
              "</div>\n",
              "\n",
              "  <div id=\"id_203ca56c-678d-4ceb-ab89-acfc21801bd2\">\n",
              "    <style>\n",
              "      .colab-df-generate {\n",
              "        background-color: #E8F0FE;\n",
              "        border: none;\n",
              "        border-radius: 50%;\n",
              "        cursor: pointer;\n",
              "        display: none;\n",
              "        fill: #1967D2;\n",
              "        height: 32px;\n",
              "        padding: 0 0 0 0;\n",
              "        width: 32px;\n",
              "      }\n",
              "\n",
              "      .colab-df-generate:hover {\n",
              "        background-color: #E2EBFA;\n",
              "        box-shadow: 0px 1px 2px rgba(60, 64, 67, 0.3), 0px 1px 3px 1px rgba(60, 64, 67, 0.15);\n",
              "        fill: #174EA6;\n",
              "      }\n",
              "\n",
              "      [theme=dark] .colab-df-generate {\n",
              "        background-color: #3B4455;\n",
              "        fill: #D2E3FC;\n",
              "      }\n",
              "\n",
              "      [theme=dark] .colab-df-generate:hover {\n",
              "        background-color: #434B5C;\n",
              "        box-shadow: 0px 1px 3px 1px rgba(0, 0, 0, 0.15);\n",
              "        filter: drop-shadow(0px 1px 2px rgba(0, 0, 0, 0.3));\n",
              "        fill: #FFFFFF;\n",
              "      }\n",
              "    </style>\n",
              "    <button class=\"colab-df-generate\" onclick=\"generateWithVariable('df')\"\n",
              "            title=\"Generate code using this dataframe.\"\n",
              "            style=\"display:none;\">\n",
              "\n",
              "  <svg xmlns=\"http://www.w3.org/2000/svg\" height=\"24px\"viewBox=\"0 0 24 24\"\n",
              "       width=\"24px\">\n",
              "    <path d=\"M7,19H8.4L18.45,9,17,7.55,7,17.6ZM5,21V16.75L18.45,3.32a2,2,0,0,1,2.83,0l1.4,1.43a1.91,1.91,0,0,1,.58,1.4,1.91,1.91,0,0,1-.58,1.4L9.25,21ZM18.45,9,17,7.55Zm-12,3A5.31,5.31,0,0,0,4.9,8.1,5.31,5.31,0,0,0,1,6.5,5.31,5.31,0,0,0,4.9,4.9,5.31,5.31,0,0,0,6.5,1,5.31,5.31,0,0,0,8.1,4.9,5.31,5.31,0,0,0,12,6.5,5.46,5.46,0,0,0,6.5,12Z\"/>\n",
              "  </svg>\n",
              "    </button>\n",
              "    <script>\n",
              "      (() => {\n",
              "      const buttonEl =\n",
              "        document.querySelector('#id_203ca56c-678d-4ceb-ab89-acfc21801bd2 button.colab-df-generate');\n",
              "      buttonEl.style.display =\n",
              "        google.colab.kernel.accessAllowed ? 'block' : 'none';\n",
              "\n",
              "      buttonEl.onclick = () => {\n",
              "        google.colab.notebook.generateWithVariable('df');\n",
              "      }\n",
              "      })();\n",
              "    </script>\n",
              "  </div>\n",
              "\n",
              "    </div>\n",
              "  </div>\n"
            ],
            "application/vnd.google.colaboratory.intrinsic+json": {
              "type": "dataframe",
              "variable_name": "df"
            }
          },
          "metadata": {},
          "execution_count": 102
        }
      ],
      "source": [
        "df = pd.DataFrame(data=X_array, columns=feature_names, index=tokens)\n",
        "(df)"
      ]
    },
    {
      "cell_type": "raw",
      "id": "f948c505-c3f3-4f5d-9c13-e99c8164a827",
      "metadata": {
        "id": "f948c505-c3f3-4f5d-9c13-e99c8164a827"
      },
      "source": [
        "10. TF-IDF"
      ]
    },
    {
      "cell_type": "code",
      "execution_count": null,
      "id": "9bffc598-ed4a-44dc-af50-ddde96cff72b",
      "metadata": {
        "id": "9bffc598-ed4a-44dc-af50-ddde96cff72b"
      },
      "outputs": [],
      "source": [
        "from sklearn.feature_extraction.text import TfidfVectorizer"
      ]
    },
    {
      "cell_type": "code",
      "execution_count": null,
      "id": "0d7debc2-5ace-4cc9-8c5b-d1b9c2b05d94",
      "metadata": {
        "id": "0d7debc2-5ace-4cc9-8c5b-d1b9c2b05d94",
        "outputId": "c82117de-df15-48da-c072-244644d7d6a7",
        "colab": {
          "base_uri": "https://localhost:8080/",
          "height": 443
        }
      },
      "outputs": [
        {
          "output_type": "execute_result",
          "data": {
            "text/plain": [
              "     about  allow  and  are   be  black   by  can  challenge  concept  ...  \\\n",
              "0      0.0    0.0  0.0  0.0  0.0    0.0  0.0  0.0        0.0      0.0  ...   \n",
              "1      0.0    0.0  0.0  0.0  0.0    0.0  0.0  0.0        0.0      0.0  ...   \n",
              "2      0.0    0.0  0.0  0.0  0.0    0.0  0.0  0.0        0.0      0.0  ...   \n",
              "3      0.0    0.0  0.0  0.0  0.0    0.0  0.0  0.0        0.0      0.0  ...   \n",
              "4      0.0    0.0  0.0  0.0  0.0    0.0  1.0  0.0        0.0      0.0  ...   \n",
              "..     ...    ...  ...  ...  ...    ...  ...  ...        ...      ...  ...   \n",
              "133    0.0    0.0  0.0  0.0  0.0    0.0  0.0  0.0        0.0      0.0  ...   \n",
              "134    0.0    0.0  0.0  0.0  0.0    0.0  0.0  0.0        0.0      0.0  ...   \n",
              "135    0.0    0.0  0.0  0.0  0.0    0.0  0.0  0.0        0.0      0.0  ...   \n",
              "136    0.0    0.0  0.0  0.0  0.0    0.0  0.0  0.0        0.0      0.0  ...   \n",
              "137    0.0    0.0  0.0  0.0  0.0    0.0  0.0  0.0        0.0      0.0  ...   \n",
              "\n",
              "     under  understanding  understood  universe   us  vast  very   we  where  \\\n",
              "0      0.0            0.0         0.0       0.0  0.0   0.0   0.0  0.0    0.0   \n",
              "1      0.0            0.0         0.0       1.0  0.0   0.0   0.0  0.0    0.0   \n",
              "2      0.0            0.0         0.0       0.0  0.0   0.0   0.0  0.0    0.0   \n",
              "3      0.0            0.0         0.0       0.0  0.0   0.0   0.0  0.0    0.0   \n",
              "4      0.0            0.0         0.0       0.0  0.0   0.0   0.0  0.0    0.0   \n",
              "..     ...            ...         ...       ...  ...   ...   ...  ...    ...   \n",
              "133    0.0            0.0         0.0       0.0  0.0   0.0   0.0  0.0    0.0   \n",
              "134    0.0            0.0         0.0       0.0  0.0   0.0   0.0  0.0    0.0   \n",
              "135    0.0            0.0         0.0       0.0  0.0   0.0   0.0  0.0    0.0   \n",
              "136    0.0            0.0         0.0       0.0  0.0   0.0   0.0  0.0    0.0   \n",
              "137    0.0            0.0         0.0       0.0  0.0   0.0   0.0  0.0    0.0   \n",
              "\n",
              "          www  \n",
              "0    0.000000  \n",
              "1    0.000000  \n",
              "2    0.000000  \n",
              "3    0.000000  \n",
              "4    0.000000  \n",
              "..        ...  \n",
              "133  0.000000  \n",
              "134  0.000000  \n",
              "135  0.000000  \n",
              "136  0.000000  \n",
              "137  0.408248  \n",
              "\n",
              "[138 rows x 92 columns]"
            ],
            "text/html": [
              "\n",
              "  <div id=\"df-b81e2c5f-dfba-4693-b525-3b89f9b040f9\" class=\"colab-df-container\">\n",
              "    <div>\n",
              "<style scoped>\n",
              "    .dataframe tbody tr th:only-of-type {\n",
              "        vertical-align: middle;\n",
              "    }\n",
              "\n",
              "    .dataframe tbody tr th {\n",
              "        vertical-align: top;\n",
              "    }\n",
              "\n",
              "    .dataframe thead th {\n",
              "        text-align: right;\n",
              "    }\n",
              "</style>\n",
              "<table border=\"1\" class=\"dataframe\">\n",
              "  <thead>\n",
              "    <tr style=\"text-align: right;\">\n",
              "      <th></th>\n",
              "      <th>about</th>\n",
              "      <th>allow</th>\n",
              "      <th>and</th>\n",
              "      <th>are</th>\n",
              "      <th>be</th>\n",
              "      <th>black</th>\n",
              "      <th>by</th>\n",
              "      <th>can</th>\n",
              "      <th>challenge</th>\n",
              "      <th>concept</th>\n",
              "      <th>...</th>\n",
              "      <th>under</th>\n",
              "      <th>understanding</th>\n",
              "      <th>understood</th>\n",
              "      <th>universe</th>\n",
              "      <th>us</th>\n",
              "      <th>vast</th>\n",
              "      <th>very</th>\n",
              "      <th>we</th>\n",
              "      <th>where</th>\n",
              "      <th>www</th>\n",
              "    </tr>\n",
              "  </thead>\n",
              "  <tbody>\n",
              "    <tr>\n",
              "      <th>0</th>\n",
              "      <td>0.0</td>\n",
              "      <td>0.0</td>\n",
              "      <td>0.0</td>\n",
              "      <td>0.0</td>\n",
              "      <td>0.0</td>\n",
              "      <td>0.0</td>\n",
              "      <td>0.0</td>\n",
              "      <td>0.0</td>\n",
              "      <td>0.0</td>\n",
              "      <td>0.0</td>\n",
              "      <td>...</td>\n",
              "      <td>0.0</td>\n",
              "      <td>0.0</td>\n",
              "      <td>0.0</td>\n",
              "      <td>0.0</td>\n",
              "      <td>0.0</td>\n",
              "      <td>0.0</td>\n",
              "      <td>0.0</td>\n",
              "      <td>0.0</td>\n",
              "      <td>0.0</td>\n",
              "      <td>0.000000</td>\n",
              "    </tr>\n",
              "    <tr>\n",
              "      <th>1</th>\n",
              "      <td>0.0</td>\n",
              "      <td>0.0</td>\n",
              "      <td>0.0</td>\n",
              "      <td>0.0</td>\n",
              "      <td>0.0</td>\n",
              "      <td>0.0</td>\n",
              "      <td>0.0</td>\n",
              "      <td>0.0</td>\n",
              "      <td>0.0</td>\n",
              "      <td>0.0</td>\n",
              "      <td>...</td>\n",
              "      <td>0.0</td>\n",
              "      <td>0.0</td>\n",
              "      <td>0.0</td>\n",
              "      <td>1.0</td>\n",
              "      <td>0.0</td>\n",
              "      <td>0.0</td>\n",
              "      <td>0.0</td>\n",
              "      <td>0.0</td>\n",
              "      <td>0.0</td>\n",
              "      <td>0.000000</td>\n",
              "    </tr>\n",
              "    <tr>\n",
              "      <th>2</th>\n",
              "      <td>0.0</td>\n",
              "      <td>0.0</td>\n",
              "      <td>0.0</td>\n",
              "      <td>0.0</td>\n",
              "      <td>0.0</td>\n",
              "      <td>0.0</td>\n",
              "      <td>0.0</td>\n",
              "      <td>0.0</td>\n",
              "      <td>0.0</td>\n",
              "      <td>0.0</td>\n",
              "      <td>...</td>\n",
              "      <td>0.0</td>\n",
              "      <td>0.0</td>\n",
              "      <td>0.0</td>\n",
              "      <td>0.0</td>\n",
              "      <td>0.0</td>\n",
              "      <td>0.0</td>\n",
              "      <td>0.0</td>\n",
              "      <td>0.0</td>\n",
              "      <td>0.0</td>\n",
              "      <td>0.000000</td>\n",
              "    </tr>\n",
              "    <tr>\n",
              "      <th>3</th>\n",
              "      <td>0.0</td>\n",
              "      <td>0.0</td>\n",
              "      <td>0.0</td>\n",
              "      <td>0.0</td>\n",
              "      <td>0.0</td>\n",
              "      <td>0.0</td>\n",
              "      <td>0.0</td>\n",
              "      <td>0.0</td>\n",
              "      <td>0.0</td>\n",
              "      <td>0.0</td>\n",
              "      <td>...</td>\n",
              "      <td>0.0</td>\n",
              "      <td>0.0</td>\n",
              "      <td>0.0</td>\n",
              "      <td>0.0</td>\n",
              "      <td>0.0</td>\n",
              "      <td>0.0</td>\n",
              "      <td>0.0</td>\n",
              "      <td>0.0</td>\n",
              "      <td>0.0</td>\n",
              "      <td>0.000000</td>\n",
              "    </tr>\n",
              "    <tr>\n",
              "      <th>4</th>\n",
              "      <td>0.0</td>\n",
              "      <td>0.0</td>\n",
              "      <td>0.0</td>\n",
              "      <td>0.0</td>\n",
              "      <td>0.0</td>\n",
              "      <td>0.0</td>\n",
              "      <td>1.0</td>\n",
              "      <td>0.0</td>\n",
              "      <td>0.0</td>\n",
              "      <td>0.0</td>\n",
              "      <td>...</td>\n",
              "      <td>0.0</td>\n",
              "      <td>0.0</td>\n",
              "      <td>0.0</td>\n",
              "      <td>0.0</td>\n",
              "      <td>0.0</td>\n",
              "      <td>0.0</td>\n",
              "      <td>0.0</td>\n",
              "      <td>0.0</td>\n",
              "      <td>0.0</td>\n",
              "      <td>0.000000</td>\n",
              "    </tr>\n",
              "    <tr>\n",
              "      <th>...</th>\n",
              "      <td>...</td>\n",
              "      <td>...</td>\n",
              "      <td>...</td>\n",
              "      <td>...</td>\n",
              "      <td>...</td>\n",
              "      <td>...</td>\n",
              "      <td>...</td>\n",
              "      <td>...</td>\n",
              "      <td>...</td>\n",
              "      <td>...</td>\n",
              "      <td>...</td>\n",
              "      <td>...</td>\n",
              "      <td>...</td>\n",
              "      <td>...</td>\n",
              "      <td>...</td>\n",
              "      <td>...</td>\n",
              "      <td>...</td>\n",
              "      <td>...</td>\n",
              "      <td>...</td>\n",
              "      <td>...</td>\n",
              "      <td>...</td>\n",
              "    </tr>\n",
              "    <tr>\n",
              "      <th>133</th>\n",
              "      <td>0.0</td>\n",
              "      <td>0.0</td>\n",
              "      <td>0.0</td>\n",
              "      <td>0.0</td>\n",
              "      <td>0.0</td>\n",
              "      <td>0.0</td>\n",
              "      <td>0.0</td>\n",
              "      <td>0.0</td>\n",
              "      <td>0.0</td>\n",
              "      <td>0.0</td>\n",
              "      <td>...</td>\n",
              "      <td>0.0</td>\n",
              "      <td>0.0</td>\n",
              "      <td>0.0</td>\n",
              "      <td>0.0</td>\n",
              "      <td>0.0</td>\n",
              "      <td>0.0</td>\n",
              "      <td>0.0</td>\n",
              "      <td>0.0</td>\n",
              "      <td>0.0</td>\n",
              "      <td>0.000000</td>\n",
              "    </tr>\n",
              "    <tr>\n",
              "      <th>134</th>\n",
              "      <td>0.0</td>\n",
              "      <td>0.0</td>\n",
              "      <td>0.0</td>\n",
              "      <td>0.0</td>\n",
              "      <td>0.0</td>\n",
              "      <td>0.0</td>\n",
              "      <td>0.0</td>\n",
              "      <td>0.0</td>\n",
              "      <td>0.0</td>\n",
              "      <td>0.0</td>\n",
              "      <td>...</td>\n",
              "      <td>0.0</td>\n",
              "      <td>0.0</td>\n",
              "      <td>0.0</td>\n",
              "      <td>0.0</td>\n",
              "      <td>0.0</td>\n",
              "      <td>0.0</td>\n",
              "      <td>0.0</td>\n",
              "      <td>0.0</td>\n",
              "      <td>0.0</td>\n",
              "      <td>0.000000</td>\n",
              "    </tr>\n",
              "    <tr>\n",
              "      <th>135</th>\n",
              "      <td>0.0</td>\n",
              "      <td>0.0</td>\n",
              "      <td>0.0</td>\n",
              "      <td>0.0</td>\n",
              "      <td>0.0</td>\n",
              "      <td>0.0</td>\n",
              "      <td>0.0</td>\n",
              "      <td>0.0</td>\n",
              "      <td>0.0</td>\n",
              "      <td>0.0</td>\n",
              "      <td>...</td>\n",
              "      <td>0.0</td>\n",
              "      <td>0.0</td>\n",
              "      <td>0.0</td>\n",
              "      <td>0.0</td>\n",
              "      <td>0.0</td>\n",
              "      <td>0.0</td>\n",
              "      <td>0.0</td>\n",
              "      <td>0.0</td>\n",
              "      <td>0.0</td>\n",
              "      <td>0.000000</td>\n",
              "    </tr>\n",
              "    <tr>\n",
              "      <th>136</th>\n",
              "      <td>0.0</td>\n",
              "      <td>0.0</td>\n",
              "      <td>0.0</td>\n",
              "      <td>0.0</td>\n",
              "      <td>0.0</td>\n",
              "      <td>0.0</td>\n",
              "      <td>0.0</td>\n",
              "      <td>0.0</td>\n",
              "      <td>0.0</td>\n",
              "      <td>0.0</td>\n",
              "      <td>...</td>\n",
              "      <td>0.0</td>\n",
              "      <td>0.0</td>\n",
              "      <td>0.0</td>\n",
              "      <td>0.0</td>\n",
              "      <td>0.0</td>\n",
              "      <td>0.0</td>\n",
              "      <td>0.0</td>\n",
              "      <td>0.0</td>\n",
              "      <td>0.0</td>\n",
              "      <td>0.000000</td>\n",
              "    </tr>\n",
              "    <tr>\n",
              "      <th>137</th>\n",
              "      <td>0.0</td>\n",
              "      <td>0.0</td>\n",
              "      <td>0.0</td>\n",
              "      <td>0.0</td>\n",
              "      <td>0.0</td>\n",
              "      <td>0.0</td>\n",
              "      <td>0.0</td>\n",
              "      <td>0.0</td>\n",
              "      <td>0.0</td>\n",
              "      <td>0.0</td>\n",
              "      <td>...</td>\n",
              "      <td>0.0</td>\n",
              "      <td>0.0</td>\n",
              "      <td>0.0</td>\n",
              "      <td>0.0</td>\n",
              "      <td>0.0</td>\n",
              "      <td>0.0</td>\n",
              "      <td>0.0</td>\n",
              "      <td>0.0</td>\n",
              "      <td>0.0</td>\n",
              "      <td>0.408248</td>\n",
              "    </tr>\n",
              "  </tbody>\n",
              "</table>\n",
              "<p>138 rows × 92 columns</p>\n",
              "</div>\n",
              "    <div class=\"colab-df-buttons\">\n",
              "\n",
              "  <div class=\"colab-df-container\">\n",
              "    <button class=\"colab-df-convert\" onclick=\"convertToInteractive('df-b81e2c5f-dfba-4693-b525-3b89f9b040f9')\"\n",
              "            title=\"Convert this dataframe to an interactive table.\"\n",
              "            style=\"display:none;\">\n",
              "\n",
              "  <svg xmlns=\"http://www.w3.org/2000/svg\" height=\"24px\" viewBox=\"0 -960 960 960\">\n",
              "    <path d=\"M120-120v-720h720v720H120Zm60-500h600v-160H180v160Zm220 220h160v-160H400v160Zm0 220h160v-160H400v160ZM180-400h160v-160H180v160Zm440 0h160v-160H620v160ZM180-180h160v-160H180v160Zm440 0h160v-160H620v160Z\"/>\n",
              "  </svg>\n",
              "    </button>\n",
              "\n",
              "  <style>\n",
              "    .colab-df-container {\n",
              "      display:flex;\n",
              "      gap: 12px;\n",
              "    }\n",
              "\n",
              "    .colab-df-convert {\n",
              "      background-color: #E8F0FE;\n",
              "      border: none;\n",
              "      border-radius: 50%;\n",
              "      cursor: pointer;\n",
              "      display: none;\n",
              "      fill: #1967D2;\n",
              "      height: 32px;\n",
              "      padding: 0 0 0 0;\n",
              "      width: 32px;\n",
              "    }\n",
              "\n",
              "    .colab-df-convert:hover {\n",
              "      background-color: #E2EBFA;\n",
              "      box-shadow: 0px 1px 2px rgba(60, 64, 67, 0.3), 0px 1px 3px 1px rgba(60, 64, 67, 0.15);\n",
              "      fill: #174EA6;\n",
              "    }\n",
              "\n",
              "    .colab-df-buttons div {\n",
              "      margin-bottom: 4px;\n",
              "    }\n",
              "\n",
              "    [theme=dark] .colab-df-convert {\n",
              "      background-color: #3B4455;\n",
              "      fill: #D2E3FC;\n",
              "    }\n",
              "\n",
              "    [theme=dark] .colab-df-convert:hover {\n",
              "      background-color: #434B5C;\n",
              "      box-shadow: 0px 1px 3px 1px rgba(0, 0, 0, 0.15);\n",
              "      filter: drop-shadow(0px 1px 2px rgba(0, 0, 0, 0.3));\n",
              "      fill: #FFFFFF;\n",
              "    }\n",
              "  </style>\n",
              "\n",
              "    <script>\n",
              "      const buttonEl =\n",
              "        document.querySelector('#df-b81e2c5f-dfba-4693-b525-3b89f9b040f9 button.colab-df-convert');\n",
              "      buttonEl.style.display =\n",
              "        google.colab.kernel.accessAllowed ? 'block' : 'none';\n",
              "\n",
              "      async function convertToInteractive(key) {\n",
              "        const element = document.querySelector('#df-b81e2c5f-dfba-4693-b525-3b89f9b040f9');\n",
              "        const dataTable =\n",
              "          await google.colab.kernel.invokeFunction('convertToInteractive',\n",
              "                                                    [key], {});\n",
              "        if (!dataTable) return;\n",
              "\n",
              "        const docLinkHtml = 'Like what you see? Visit the ' +\n",
              "          '<a target=\"_blank\" href=https://colab.research.google.com/notebooks/data_table.ipynb>data table notebook</a>'\n",
              "          + ' to learn more about interactive tables.';\n",
              "        element.innerHTML = '';\n",
              "        dataTable['output_type'] = 'display_data';\n",
              "        await google.colab.output.renderOutput(dataTable, element);\n",
              "        const docLink = document.createElement('div');\n",
              "        docLink.innerHTML = docLinkHtml;\n",
              "        element.appendChild(docLink);\n",
              "      }\n",
              "    </script>\n",
              "  </div>\n",
              "\n",
              "\n",
              "<div id=\"df-fe77cddf-7236-463b-9cc7-cf6bf991e4f8\">\n",
              "  <button class=\"colab-df-quickchart\" onclick=\"quickchart('df-fe77cddf-7236-463b-9cc7-cf6bf991e4f8')\"\n",
              "            title=\"Suggest charts\"\n",
              "            style=\"display:none;\">\n",
              "\n",
              "<svg xmlns=\"http://www.w3.org/2000/svg\" height=\"24px\"viewBox=\"0 0 24 24\"\n",
              "     width=\"24px\">\n",
              "    <g>\n",
              "        <path d=\"M19 3H5c-1.1 0-2 .9-2 2v14c0 1.1.9 2 2 2h14c1.1 0 2-.9 2-2V5c0-1.1-.9-2-2-2zM9 17H7v-7h2v7zm4 0h-2V7h2v10zm4 0h-2v-4h2v4z\"/>\n",
              "    </g>\n",
              "</svg>\n",
              "  </button>\n",
              "\n",
              "<style>\n",
              "  .colab-df-quickchart {\n",
              "      --bg-color: #E8F0FE;\n",
              "      --fill-color: #1967D2;\n",
              "      --hover-bg-color: #E2EBFA;\n",
              "      --hover-fill-color: #174EA6;\n",
              "      --disabled-fill-color: #AAA;\n",
              "      --disabled-bg-color: #DDD;\n",
              "  }\n",
              "\n",
              "  [theme=dark] .colab-df-quickchart {\n",
              "      --bg-color: #3B4455;\n",
              "      --fill-color: #D2E3FC;\n",
              "      --hover-bg-color: #434B5C;\n",
              "      --hover-fill-color: #FFFFFF;\n",
              "      --disabled-bg-color: #3B4455;\n",
              "      --disabled-fill-color: #666;\n",
              "  }\n",
              "\n",
              "  .colab-df-quickchart {\n",
              "    background-color: var(--bg-color);\n",
              "    border: none;\n",
              "    border-radius: 50%;\n",
              "    cursor: pointer;\n",
              "    display: none;\n",
              "    fill: var(--fill-color);\n",
              "    height: 32px;\n",
              "    padding: 0;\n",
              "    width: 32px;\n",
              "  }\n",
              "\n",
              "  .colab-df-quickchart:hover {\n",
              "    background-color: var(--hover-bg-color);\n",
              "    box-shadow: 0 1px 2px rgba(60, 64, 67, 0.3), 0 1px 3px 1px rgba(60, 64, 67, 0.15);\n",
              "    fill: var(--button-hover-fill-color);\n",
              "  }\n",
              "\n",
              "  .colab-df-quickchart-complete:disabled,\n",
              "  .colab-df-quickchart-complete:disabled:hover {\n",
              "    background-color: var(--disabled-bg-color);\n",
              "    fill: var(--disabled-fill-color);\n",
              "    box-shadow: none;\n",
              "  }\n",
              "\n",
              "  .colab-df-spinner {\n",
              "    border: 2px solid var(--fill-color);\n",
              "    border-color: transparent;\n",
              "    border-bottom-color: var(--fill-color);\n",
              "    animation:\n",
              "      spin 1s steps(1) infinite;\n",
              "  }\n",
              "\n",
              "  @keyframes spin {\n",
              "    0% {\n",
              "      border-color: transparent;\n",
              "      border-bottom-color: var(--fill-color);\n",
              "      border-left-color: var(--fill-color);\n",
              "    }\n",
              "    20% {\n",
              "      border-color: transparent;\n",
              "      border-left-color: var(--fill-color);\n",
              "      border-top-color: var(--fill-color);\n",
              "    }\n",
              "    30% {\n",
              "      border-color: transparent;\n",
              "      border-left-color: var(--fill-color);\n",
              "      border-top-color: var(--fill-color);\n",
              "      border-right-color: var(--fill-color);\n",
              "    }\n",
              "    40% {\n",
              "      border-color: transparent;\n",
              "      border-right-color: var(--fill-color);\n",
              "      border-top-color: var(--fill-color);\n",
              "    }\n",
              "    60% {\n",
              "      border-color: transparent;\n",
              "      border-right-color: var(--fill-color);\n",
              "    }\n",
              "    80% {\n",
              "      border-color: transparent;\n",
              "      border-right-color: var(--fill-color);\n",
              "      border-bottom-color: var(--fill-color);\n",
              "    }\n",
              "    90% {\n",
              "      border-color: transparent;\n",
              "      border-bottom-color: var(--fill-color);\n",
              "    }\n",
              "  }\n",
              "</style>\n",
              "\n",
              "  <script>\n",
              "    async function quickchart(key) {\n",
              "      const quickchartButtonEl =\n",
              "        document.querySelector('#' + key + ' button');\n",
              "      quickchartButtonEl.disabled = true;  // To prevent multiple clicks.\n",
              "      quickchartButtonEl.classList.add('colab-df-spinner');\n",
              "      try {\n",
              "        const charts = await google.colab.kernel.invokeFunction(\n",
              "            'suggestCharts', [key], {});\n",
              "      } catch (error) {\n",
              "        console.error('Error during call to suggestCharts:', error);\n",
              "      }\n",
              "      quickchartButtonEl.classList.remove('colab-df-spinner');\n",
              "      quickchartButtonEl.classList.add('colab-df-quickchart-complete');\n",
              "    }\n",
              "    (() => {\n",
              "      let quickchartButtonEl =\n",
              "        document.querySelector('#df-fe77cddf-7236-463b-9cc7-cf6bf991e4f8 button');\n",
              "      quickchartButtonEl.style.display =\n",
              "        google.colab.kernel.accessAllowed ? 'block' : 'none';\n",
              "    })();\n",
              "  </script>\n",
              "</div>\n",
              "\n",
              "  <div id=\"id_cb8fd8d9-8905-41fd-a4bb-55661f42e30a\">\n",
              "    <style>\n",
              "      .colab-df-generate {\n",
              "        background-color: #E8F0FE;\n",
              "        border: none;\n",
              "        border-radius: 50%;\n",
              "        cursor: pointer;\n",
              "        display: none;\n",
              "        fill: #1967D2;\n",
              "        height: 32px;\n",
              "        padding: 0 0 0 0;\n",
              "        width: 32px;\n",
              "      }\n",
              "\n",
              "      .colab-df-generate:hover {\n",
              "        background-color: #E2EBFA;\n",
              "        box-shadow: 0px 1px 2px rgba(60, 64, 67, 0.3), 0px 1px 3px 1px rgba(60, 64, 67, 0.15);\n",
              "        fill: #174EA6;\n",
              "      }\n",
              "\n",
              "      [theme=dark] .colab-df-generate {\n",
              "        background-color: #3B4455;\n",
              "        fill: #D2E3FC;\n",
              "      }\n",
              "\n",
              "      [theme=dark] .colab-df-generate:hover {\n",
              "        background-color: #434B5C;\n",
              "        box-shadow: 0px 1px 3px 1px rgba(0, 0, 0, 0.15);\n",
              "        filter: drop-shadow(0px 1px 2px rgba(0, 0, 0, 0.3));\n",
              "        fill: #FFFFFF;\n",
              "      }\n",
              "    </style>\n",
              "    <button class=\"colab-df-generate\" onclick=\"generateWithVariable('df')\"\n",
              "            title=\"Generate code using this dataframe.\"\n",
              "            style=\"display:none;\">\n",
              "\n",
              "  <svg xmlns=\"http://www.w3.org/2000/svg\" height=\"24px\"viewBox=\"0 0 24 24\"\n",
              "       width=\"24px\">\n",
              "    <path d=\"M7,19H8.4L18.45,9,17,7.55,7,17.6ZM5,21V16.75L18.45,3.32a2,2,0,0,1,2.83,0l1.4,1.43a1.91,1.91,0,0,1,.58,1.4,1.91,1.91,0,0,1-.58,1.4L9.25,21ZM18.45,9,17,7.55Zm-12,3A5.31,5.31,0,0,0,4.9,8.1,5.31,5.31,0,0,0,1,6.5,5.31,5.31,0,0,0,4.9,4.9,5.31,5.31,0,0,0,6.5,1,5.31,5.31,0,0,0,8.1,4.9,5.31,5.31,0,0,0,12,6.5,5.46,5.46,0,0,0,6.5,12Z\"/>\n",
              "  </svg>\n",
              "    </button>\n",
              "    <script>\n",
              "      (() => {\n",
              "      const buttonEl =\n",
              "        document.querySelector('#id_cb8fd8d9-8905-41fd-a4bb-55661f42e30a button.colab-df-generate');\n",
              "      buttonEl.style.display =\n",
              "        google.colab.kernel.accessAllowed ? 'block' : 'none';\n",
              "\n",
              "      buttonEl.onclick = () => {\n",
              "        google.colab.notebook.generateWithVariable('df');\n",
              "      }\n",
              "      })();\n",
              "    </script>\n",
              "  </div>\n",
              "\n",
              "    </div>\n",
              "  </div>\n"
            ],
            "application/vnd.google.colaboratory.intrinsic+json": {
              "type": "dataframe",
              "variable_name": "df"
            }
          },
          "metadata": {},
          "execution_count": 105
        }
      ],
      "source": [
        "tfidf_vectorizer = TfidfVectorizer()\n",
        "tfidf_matrix = tfidf_vectorizer.fit_transform(tokens)\n",
        "terms = tfidf_vectorizer.get_feature_names_out()\n",
        "df = pd.DataFrame(tfidf_matrix.toarray(), columns=terms)\n",
        "(df)"
      ]
    },
    {
      "cell_type": "raw",
      "id": "cba19784-9067-4c36-9cc2-c48478300712",
      "metadata": {
        "id": "cba19784-9067-4c36-9cc2-c48478300712"
      },
      "source": [
        "11. Encodings"
      ]
    },
    {
      "cell_type": "code",
      "execution_count": null,
      "id": "18dfd9f1-ecc1-4f8f-a3ea-9cb1b0d48b41",
      "metadata": {
        "id": "18dfd9f1-ecc1-4f8f-a3ea-9cb1b0d48b41"
      },
      "outputs": [],
      "source": [
        "from sklearn.preprocessing import OneHotEncoder"
      ]
    },
    {
      "cell_type": "code",
      "execution_count": null,
      "id": "a9a457a3-a3ff-4fd8-a4b9-669bb0fe15e6",
      "metadata": {
        "id": "a9a457a3-a3ff-4fd8-a4b9-669bb0fe15e6"
      },
      "outputs": [],
      "source": [
        "import numpy as np"
      ]
    },
    {
      "cell_type": "code",
      "execution_count": null,
      "id": "8538776a-5578-49bc-8e99-77d001f0ccb3",
      "metadata": {
        "id": "8538776a-5578-49bc-8e99-77d001f0ccb3",
        "outputId": "5939174d-c501-40d5-a510-9923a714500c",
        "colab": {
          "base_uri": "https://localhost:8080/"
        }
      },
      "outputs": [
        {
          "output_type": "stream",
          "name": "stderr",
          "text": [
            "[nltk_data] Downloading package punkt to /root/nltk_data...\n",
            "[nltk_data]   Package punkt is already up-to-date!\n"
          ]
        },
        {
          "output_type": "execute_result",
          "data": {
            "text/plain": [
              "True"
            ]
          },
          "metadata": {},
          "execution_count": 108
        }
      ],
      "source": [
        "nltk.download('punkt')"
      ]
    },
    {
      "cell_type": "code",
      "execution_count": null,
      "id": "889f30a6-cb4a-4d51-8071-09f66da8c8e2",
      "metadata": {
        "id": "889f30a6-cb4a-4d51-8071-09f66da8c8e2"
      },
      "outputs": [],
      "source": [
        "tokenized_text = [nltk.word_tokenize(sentence.lower()) for sentence in text]"
      ]
    },
    {
      "cell_type": "code",
      "execution_count": null,
      "id": "c8ab62bb-1077-4a56-a793-c7167c403a50",
      "metadata": {
        "id": "c8ab62bb-1077-4a56-a793-c7167c403a50"
      },
      "outputs": [],
      "source": [
        "all_words = [word for sentence in tokenized_text for word in sentence]"
      ]
    },
    {
      "cell_type": "code",
      "execution_count": null,
      "id": "294b9910-211b-42c5-9d19-22be4935678b",
      "metadata": {
        "id": "294b9910-211b-42c5-9d19-22be4935678b"
      },
      "outputs": [],
      "source": [
        "vocab = sorted(set(all_words))"
      ]
    },
    {
      "cell_type": "code",
      "execution_count": null,
      "id": "4c4cf625-276c-4b1c-9f8a-1dca3aa65e45",
      "metadata": {
        "id": "4c4cf625-276c-4b1c-9f8a-1dca3aa65e45",
        "outputId": "e7ae21a0-f4d8-4d04-b36f-62f82cf5ca0f",
        "colab": {
          "base_uri": "https://localhost:8080/"
        }
      },
      "outputs": [
        {
          "output_type": "stream",
          "name": "stdout",
          "text": [
            "Vocabulary: [',', '.', '/', ':', '_', 'a', 'b', 'c', 'd', 'e', 'f', 'g', 'h', 'i', 'k', 'l', 'm', 'n', 'o', 'p', 'q', 'r', 's', 't', 'u', 'v', 'w', 'x', 'y']\n"
          ]
        }
      ],
      "source": [
        "print(\"Vocabulary:\", vocab)"
      ]
    },
    {
      "cell_type": "code",
      "execution_count": null,
      "id": "4b1f3432-b5b0-424e-bfbd-f10a63b88304",
      "metadata": {
        "id": "4b1f3432-b5b0-424e-bfbd-f10a63b88304"
      },
      "outputs": [],
      "source": [
        "word_array = np.array(all_words).reshape(-1, 1)"
      ]
    },
    {
      "cell_type": "code",
      "execution_count": null,
      "id": "f421dae8-f7f1-4297-873c-497f10dbcbd4",
      "metadata": {
        "id": "f421dae8-f7f1-4297-873c-497f10dbcbd4"
      },
      "outputs": [],
      "source": [
        "one_hot_encoder = OneHotEncoder(sparse_output=False)\n",
        "one_hot_encoded = one_hot_encoder.fit_transform(word_array)"
      ]
    },
    {
      "cell_type": "code",
      "execution_count": null,
      "id": "4c032e6e-d233-44b7-9be0-ba78bac73feb",
      "metadata": {
        "id": "4c032e6e-d233-44b7-9be0-ba78bac73feb",
        "outputId": "8f39dfa0-7d81-4e23-b2aa-b1a5b25912e8",
        "colab": {
          "base_uri": "https://localhost:8080/"
        }
      },
      "outputs": [
        {
          "output_type": "stream",
          "name": "stdout",
          "text": [
            "One-hot encoded matrix:\n",
            " [[0. 0. 0. ... 0. 0. 0.]\n",
            " [0. 0. 0. ... 0. 0. 0.]\n",
            " [0. 0. 0. ... 0. 0. 0.]\n",
            " ...\n",
            " [0. 0. 0. ... 0. 0. 0.]\n",
            " [0. 0. 0. ... 0. 0. 0.]\n",
            " [0. 0. 0. ... 0. 0. 0.]]\n"
          ]
        }
      ],
      "source": [
        "print(\"One-hot encoded matrix:\\n\", one_hot_encoded)"
      ]
    },
    {
      "cell_type": "raw",
      "id": "d20b330c-e35f-4e54-9412-050133348d2a",
      "metadata": {
        "id": "d20b330c-e35f-4e54-9412-050133348d2a"
      },
      "source": [
        "12. word2vec\n"
      ]
    },
    {
      "cell_type": "code",
      "source": [
        "import matplotlib.pyplot as plt"
      ],
      "metadata": {
        "id": "ugdfNBJevyLu"
      },
      "id": "ugdfNBJevyLu",
      "execution_count": null,
      "outputs": []
    },
    {
      "cell_type": "code",
      "source": [
        "from gensim.models import Word2Vec"
      ],
      "metadata": {
        "id": "KYP20mAJwbMW"
      },
      "id": "KYP20mAJwbMW",
      "execution_count": null,
      "outputs": []
    }
  ],
  "metadata": {
    "kernelspec": {
      "display_name": "Python 3 (ipykernel)",
      "language": "python",
      "name": "python3"
    },
    "language_info": {
      "codemirror_mode": {
        "name": "ipython",
        "version": 3
      },
      "file_extension": ".py",
      "mimetype": "text/x-python",
      "name": "python",
      "nbconvert_exporter": "python",
      "pygments_lexer": "ipython3",
      "version": "3.13.0"
    },
    "colab": {
      "provenance": [],
      "include_colab_link": true
    }
  },
  "nbformat": 4,
  "nbformat_minor": 5
}